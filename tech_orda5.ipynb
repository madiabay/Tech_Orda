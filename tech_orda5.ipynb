{
 "cells": [
  {
   "cell_type": "markdown",
   "metadata": {},
   "source": [
    "GETTER AND SETTER"
   ]
  },
  {
   "cell_type": "markdown",
   "metadata": {},
   "source": [
    "***setter -> нужен чтобы мы могди внутри метода сделать какую то валидацию***"
   ]
  },
  {
   "cell_type": "code",
   "execution_count": 5,
   "metadata": {},
   "outputs": [],
   "source": [
    "class User:\n",
    "    name: str = 'Madi'\n",
    "    age: int = 21\n",
    "    username: str | None = None\n",
    "\n",
    "    def set_username(self, username: str) -> None:\n",
    "        if len(username) < 8:\n",
    "            print('invalid username')\n",
    "            return\n",
    "        self.username = username\n",
    "    \n",
    "    def get_username(self):\n",
    "        if self.username:\n",
    "            print(self.username)\n",
    "            return\n",
    "        else:\n",
    "            print('invalid username')\n",
    "            return"
   ]
  },
  {
   "cell_type": "code",
   "execution_count": 6,
   "metadata": {},
   "outputs": [],
   "source": [
    "a = User()"
   ]
  },
  {
   "cell_type": "code",
   "execution_count": 7,
   "metadata": {},
   "outputs": [
    {
     "name": "stdout",
     "output_type": "stream",
     "text": [
      "invalid username\n"
     ]
    }
   ],
   "source": [
    "a.get_username()"
   ]
  },
  {
   "cell_type": "code",
   "execution_count": 8,
   "metadata": {},
   "outputs": [
    {
     "name": "stdout",
     "output_type": "stream",
     "text": [
      "madiabay\n"
     ]
    }
   ],
   "source": [
    "a.set_username('madiabay')\n",
    "\n",
    "a.get_username()"
   ]
  },
  {
   "cell_type": "code",
   "execution_count": 9,
   "metadata": {},
   "outputs": [
    {
     "name": "stdout",
     "output_type": "stream",
     "text": [
      "invalid username\n"
     ]
    }
   ],
   "source": [
    "a.set_username('wedwe') # потому что длина узернейма меньше восьми"
   ]
  },
  {
   "cell_type": "code",
   "execution_count": 10,
   "metadata": {},
   "outputs": [],
   "source": [
    "class User2:\n",
    "    name: str = 'Madi'\n",
    "    age: int = 21\n",
    "    __username: str | None = None\n",
    "\n",
    "    def set_username(self, username: str) -> None:\n",
    "        if len(username) < 8:\n",
    "            print('invalid username')\n",
    "            return\n",
    "        self.__username = username\n",
    "    \n",
    "    \n",
    "    def username(self):\n",
    "        if self.__username:\n",
    "            print(self.__username)\n",
    "            return\n",
    "        else:\n",
    "            print('invalid username')\n",
    "            return"
   ]
  },
  {
   "cell_type": "code",
   "execution_count": 11,
   "metadata": {},
   "outputs": [
    {
     "name": "stdout",
     "output_type": "stream",
     "text": [
      "madiabay\n"
     ]
    }
   ],
   "source": [
    "a = User2()\n",
    "\n",
    "a.set_username('madiabay')\n",
    "\n",
    "a.username() # здесь мы взяли атрибут с помощью метода, то есть с помощью callable обьекта"
   ]
  },
  {
   "cell_type": "code",
   "execution_count": 15,
   "metadata": {},
   "outputs": [],
   "source": [
    "# get method получаем приватный атрибут\n",
    "class User3:\n",
    "    name: str = 'Madi'\n",
    "    age: int = 21\n",
    "    __username: str | None = None\n",
    "\n",
    "    def set_username(self, username: str) -> None:\n",
    "        if len(username) < 8:\n",
    "            print('invalid username')\n",
    "            return\n",
    "        self.__username = username\n",
    "    \n",
    "    @property\n",
    "    def username(self):\n",
    "        if self.__username:\n",
    "            print(self.__username)\n",
    "            return\n",
    "        else:\n",
    "            print('invalid username')\n",
    "            return"
   ]
  },
  {
   "cell_type": "code",
   "execution_count": 16,
   "metadata": {},
   "outputs": [],
   "source": [
    "a = User3()\n",
    "\n",
    "a.set_username('madiabay')"
   ]
  },
  {
   "cell_type": "code",
   "execution_count": 17,
   "metadata": {},
   "outputs": [
    {
     "name": "stdout",
     "output_type": "stream",
     "text": [
      "madiabay\n"
     ]
    },
    {
     "ename": "TypeError",
     "evalue": "'NoneType' object is not callable",
     "output_type": "error",
     "traceback": [
      "\u001b[1;31m---------------------------------------------------------------------------\u001b[0m",
      "\u001b[1;31mTypeError\u001b[0m                                 Traceback (most recent call last)",
      "Cell \u001b[1;32mIn [17], line 1\u001b[0m\n\u001b[1;32m----> 1\u001b[0m a\u001b[39m.\u001b[39;49musername() \u001b[39m# здесь мы уже не может так посмотреть атрибут потому что мы \u001b[39;00m\n",
      "\u001b[1;31mTypeError\u001b[0m: 'NoneType' object is not callable"
     ]
    }
   ],
   "source": [
    "a.username() # здесь мы уже не может так посмотреть атрибут потому что мы использовали декоратор @property"
   ]
  },
  {
   "cell_type": "code",
   "execution_count": 18,
   "metadata": {},
   "outputs": [
    {
     "name": "stdout",
     "output_type": "stream",
     "text": [
      "madiabay\n"
     ]
    }
   ],
   "source": [
    "a.username # теперь мы может вот так посмотреть атрибут и это будет правильно. То есть здесь мы может посмотреть атрибут. А без этого метода и декоратора мы бы не получили атрибут так как этот атрибут у нас PRIVATE"
   ]
  },
  {
   "cell_type": "code",
   "execution_count": 19,
   "metadata": {},
   "outputs": [
    {
     "ename": "AttributeError",
     "evalue": "can't set attribute 'username'",
     "output_type": "error",
     "traceback": [
      "\u001b[1;31m---------------------------------------------------------------------------\u001b[0m",
      "\u001b[1;31mAttributeError\u001b[0m                            Traceback (most recent call last)",
      "Cell \u001b[1;32mIn [19], line 3\u001b[0m\n\u001b[0;32m      1\u001b[0m \u001b[39m# при этом мы не можем изменить атрибут потому что это приватнй\u001b[39;00m\n\u001b[1;32m----> 3\u001b[0m a\u001b[39m.\u001b[39;49musername \u001b[39m=\u001b[39m \u001b[39m'\u001b[39m\u001b[39mmadiabay2\u001b[39m\u001b[39m'\u001b[39m\n",
      "\u001b[1;31mAttributeError\u001b[0m: can't set attribute 'username'"
     ]
    }
   ],
   "source": [
    "# при этом мы не можем изменить атрибут потому что это приватный\n",
    "\n",
    "a.username = 'madiabay2'"
   ]
  },
  {
   "cell_type": "code",
   "execution_count": 20,
   "metadata": {},
   "outputs": [],
   "source": [
    "####################################"
   ]
  },
  {
   "cell_type": "markdown",
   "metadata": {},
   "source": [
    "# @classmethod and #staticmethod"
   ]
  },
  {
   "cell_type": "code",
   "execution_count": 27,
   "metadata": {},
   "outputs": [],
   "source": [
    "class User(object):\n",
    "    def __init__(self, name: str, username: str, age: int=21) -> None:\n",
    "        self.name = name\n",
    "        self.username = username\n",
    "        self.age = age\n",
    "    \n",
    "    def get_info(self):\n",
    "        print(f'{self.name=}, {self.username=}, {self.age=}')"
   ]
  },
  {
   "cell_type": "code",
   "execution_count": 28,
   "metadata": {},
   "outputs": [
    {
     "name": "stdout",
     "output_type": "stream",
     "text": [
      "self.name='Madi', self.username='Abay', self.age=21\n"
     ]
    }
   ],
   "source": [
    "a = User(name='Madi', username='Abay')\n",
    "\n",
    "a.get_info()"
   ]
  },
  {
   "cell_type": "code",
   "execution_count": 29,
   "metadata": {},
   "outputs": [
    {
     "ename": "TypeError",
     "evalue": "User.__init__() missing 1 required positional argument: 'username'",
     "output_type": "error",
     "traceback": [
      "\u001b[1;31m---------------------------------------------------------------------------\u001b[0m",
      "\u001b[1;31mTypeError\u001b[0m                                 Traceback (most recent call last)",
      "Cell \u001b[1;32mIn [29], line 5\u001b[0m\n\u001b[0;32m      1\u001b[0m \u001b[39m# а если мы хотим дать атрибут через база данных то так как на верхц не можем использовать\u001b[39;00m\n\u001b[0;32m      3\u001b[0m user_list \u001b[39m=\u001b[39m [\u001b[39m'\u001b[39m\u001b[39mAdilet\u001b[39m\u001b[39m'\u001b[39m, \u001b[39m'\u001b[39m\u001b[39mMakhmetov\u001b[39m\u001b[39m'\u001b[39m, \u001b[39m24\u001b[39m] \u001b[39m# типа это у нас база данных\u001b[39;00m\n\u001b[1;32m----> 5\u001b[0m b \u001b[39m=\u001b[39m User(user_list)\n\u001b[0;32m      7\u001b[0m b\u001b[39m.\u001b[39mget_info()\n",
      "\u001b[1;31mTypeError\u001b[0m: User.__init__() missing 1 required positional argument: 'username'"
     ]
    }
   ],
   "source": [
    "# а если мы хотим дать атрибуты через база данных то так как на верху мы не можем использовать\n",
    "\n",
    "user_list = ['Adilet', 'Makhmetov', 24] # типа это у нас база данных\n",
    "\n",
    "b = User(user_list) \n",
    "\n",
    "b.get_info()"
   ]
  },
  {
   "cell_type": "code",
   "execution_count": 32,
   "metadata": {},
   "outputs": [],
   "source": [
    "# @classmethod\n",
    "# чтобы мы могли дать атрибуты через база данных мы используем @classmethod\n",
    "\n",
    "class User2(object):\n",
    "    def __init__(self, name: str, username: str, age: int=21) -> None:\n",
    "        self.name = name\n",
    "        self.username = username\n",
    "        self.age = age\n",
    "    \n",
    "    def get_info(self):\n",
    "        print(f'{self.name=}, {self.username=}, {self.age=}')\n",
    "    \n",
    "    @classmethod\n",
    "    def get_info_class(cls, data: list):\n",
    "        name, username, age = data\n",
    "        return cls(name, username, age)"
   ]
  },
  {
   "cell_type": "code",
   "execution_count": 33,
   "metadata": {},
   "outputs": [
    {
     "name": "stdout",
     "output_type": "stream",
     "text": [
      "self.name='Adilet', self.username='Makhmetov', self.age=24\n"
     ]
    }
   ],
   "source": [
    "user_list = ['Adilet', 'Makhmetov', 24] # типа это у нас база данных\n",
    "\n",
    "b = User2.get_info_class(user_list)\n",
    "\n",
    "b.get_info()"
   ]
  },
  {
   "cell_type": "code",
   "execution_count": 34,
   "metadata": {},
   "outputs": [],
   "source": [
    "# @staticmethod\n",
    "\n",
    "class User3(object):\n",
    "    def __init__(self, name: str, username: str, age: int=21) -> None:\n",
    "        self.name = name\n",
    "        self.username = username\n",
    "        self.age = age\n",
    "    \n",
    "    def get_info(self):\n",
    "        print(f'{self.name=}, {self.username=}, {self.age=}')\n",
    "    \n",
    "    @classmethod\n",
    "    def get_info_class(cls, data: list):\n",
    "        name, username, age = data\n",
    "        return cls(name, username, age)\n",
    "    \n",
    "    @staticmethod # в статик методе мы не можем передовать self потому что это статический метод\n",
    "    def get_info_static(self):\n",
    "        print(f'{self.name=}, {self.username=}, {self.age=}')"
   ]
  },
  {
   "cell_type": "code",
   "execution_count": 35,
   "metadata": {},
   "outputs": [
    {
     "name": "stdout",
     "output_type": "stream",
     "text": [
      "self.name='Madi', self.username='Abay', self.age=21\n"
     ]
    }
   ],
   "source": [
    "a = User3.get_info_static(a) # self это он сам"
   ]
  },
  {
   "cell_type": "code",
   "execution_count": 3,
   "metadata": {},
   "outputs": [
    {
     "name": "stdout",
     "output_type": "stream",
     "text": [
      "[0, 1, 2, 3, 4, 5, 6, 7, 8, 9]\n"
     ]
    },
    {
     "data": {
      "text/plain": [
       "2"
      ]
     },
     "execution_count": 3,
     "metadata": {},
     "output_type": "execute_result"
    }
   ],
   "source": [
    "a_list = [i for i in range(10)]\n",
    "print(a_list)\n",
    "\n",
    "a_gen = (i for i in range(10))\n",
    "next(a_gen)\n",
    "next(a_gen)\n",
    "next(a_gen)"
   ]
  },
  {
   "cell_type": "markdown",
   "metadata": {},
   "source": [
    "# Mini registration and login"
   ]
  },
  {
   "cell_type": "code",
   "execution_count": 5,
   "metadata": {},
   "outputs": [
    {
     "name": "stdout",
     "output_type": "stream",
     "text": [
      "[madi]\n",
      "madi\n",
      "User not found\n",
      "User not found\n",
      "User not found\n",
      "SUCCESS\n"
     ]
    }
   ],
   "source": [
    "import hashlib\n",
    "from typing import Optional\n",
    "\n",
    "users = []\n",
    "\n",
    "\n",
    "def hash_password(password: str):\n",
    "    return hashlib.sha256(password.encode(encoding='utf-8')).hexdigest()\n",
    "\n",
    "\n",
    "class User:\n",
    "    __password: str\n",
    "\n",
    "    def __init__(self, username: str):\n",
    "        self.username = username\n",
    "\n",
    "    def set_password(self, password: str):\n",
    "        self.__password = hash_password(password)\n",
    "\n",
    "    def check_password(self, password: str) -> bool:\n",
    "        return self.__password == hash_password(password)\n",
    "\n",
    "    def __repr__(self):\n",
    "        return self.username\n",
    "\n",
    "\n",
    "def create_user(username: str, password: str) -> User:\n",
    "    user = User(username=username)\n",
    "    user.set_password(password=password)\n",
    "    users.append(user)\n",
    "    print(users)\n",
    "\n",
    "    return user\n",
    "\n",
    "\n",
    "def get_user(username: str, password: str) -> Optional[User]:\n",
    "    user = next((u for u in users if username == u.username and u.check_password(password)), None)\n",
    "\n",
    "    if not user:\n",
    "        print('User not found')\n",
    "        return\n",
    "    print('SUCCESS')\n",
    "    return user\n",
    "\n",
    "\n",
    "\n",
    "username, password = input('Create user: ').split(' ')\n",
    "user = create_user(username=username, password=password)\n",
    "print(user)\n",
    "\n",
    "while True:\n",
    "    username, password = input('Enter your creds: ').split(' ')\n",
    "    if (get_user(username=username, password=password)):\n",
    "        break"
   ]
  }
 ],
 "metadata": {
  "kernelspec": {
   "display_name": "Python 3.10.7 64-bit",
   "language": "python",
   "name": "python3"
  },
  "language_info": {
   "codemirror_mode": {
    "name": "ipython",
    "version": 3
   },
   "file_extension": ".py",
   "mimetype": "text/x-python",
   "name": "python",
   "nbconvert_exporter": "python",
   "pygments_lexer": "ipython3",
   "version": "3.10.7"
  },
  "orig_nbformat": 4,
  "vscode": {
   "interpreter": {
    "hash": "369f2c481f4da34e4445cda3fffd2e751bd1c4d706f27375911949ba6bb62e1c"
   }
  }
 },
 "nbformat": 4,
 "nbformat_minor": 2
}
