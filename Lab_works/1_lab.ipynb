{
 "cells": [
  {
   "cell_type": "code",
   "execution_count": 6,
   "metadata": {},
   "outputs": [
    {
     "name": "stdout",
     "output_type": "stream",
     "text": [
      "a=12, b=5\n",
      "13.0\n"
     ]
    }
   ],
   "source": [
    "#1\n",
    "\"\"\"\n",
    "1. Гипотенуза\n",
    "https://informatics.msk.ru/mod/statements/view.php?id=2296&chapterid=2936#1 \n",
    "\n",
    "Дано два числа a и b. Найдите гипотенузу треугольника с заданными катетами.\n",
    "Входные данные\n",
    "В двух строках вводятся два числа (числа целые,положительные, не превышают 1000).\n",
    "Выходные данные\n",
    "Выведите ответ на задачу.\n",
    "\n",
    "\"\"\"\n",
    "a = int(input())\n",
    "b = int(input())\n",
    "print(f'{a=}, {b=}')\n",
    "\n",
    "print((a**2 + b**2)**0.5)"
   ]
  },
  {
   "cell_type": "code",
   "execution_count": 11,
   "metadata": {},
   "outputs": [
    {
     "name": "stdout",
     "output_type": "stream",
     "text": [
      "n=999\n",
      "9\n"
     ]
    }
   ],
   "source": [
    "#2\n",
    "\"\"\"\n",
    "2.Число десятков\n",
    "https://informatics.msk.ru/mod/statements/view.php?id=2296&chapterid=2943#1 \n",
    " \n",
    "Дано неотрицательное целое число. Найдите число десятков в его десятичной записи (то есть вторую справа цифру его десятичной записи).\n",
    "Входные данные\n",
    "Вводится неотрицательное целое число.\n",
    "Выходные данные\n",
    "Выведите ответ на задачу.\n",
    "\n",
    "\"\"\"\n",
    "n = int(input())\n",
    "print(f'{n=}')\n",
    "\n",
    "n = n // 10\n",
    "n = n % 10\n",
    "print(n)"
   ]
  },
  {
   "cell_type": "code",
   "execution_count": 15,
   "metadata": {},
   "outputs": [
    {
     "name": "stdout",
     "output_type": "stream",
     "text": [
      "12\n"
     ]
    }
   ],
   "source": [
    "#3\n",
    "\"\"\"\n",
    "3. Следующее четное\n",
    "https://informatics.msk.ru/mod/statements/view.php?id=2296&chapterid=2945#1 \n",
    " \n",
    "Дано целое число n. Выведите следующее за ним четное число. При решении этой задачи нельзя использовать условную инструкцию if и циклы.\n",
    "Примечание. До 01 марта 2019 г. задачу нельзя сдать на языке Паскаль.\n",
    "Входные данные\n",
    "Вводится натуральное число.\n",
    "Выходные данные\n",
    "Выведите ответ на задачу.\n",
    "\n",
    "\"\"\"\n",
    "n = int(input())\n",
    "\n",
    "print((n - n%2) + 2)"
   ]
  },
  {
   "cell_type": "code",
   "execution_count": 87,
   "metadata": {},
   "outputs": [
    {
     "name": "stdout",
     "output_type": "stream",
     "text": [
      "5\n",
      "6\n",
      "12\n"
     ]
    }
   ],
   "source": [
    "#3\n",
    "a = int(input())\n",
    "\n",
    "a //= 2\n",
    "print(a)\n",
    "a += 1\n",
    "print(a)\n",
    "\n",
    "print(a*2)"
   ]
  },
  {
   "cell_type": "code",
   "execution_count": 11,
   "metadata": {},
   "outputs": [
    {
     "name": "stdout",
     "output_type": "stream",
     "text": [
      "n=4\n",
      "12:25\n"
     ]
    }
   ],
   "source": [
    "#4\n",
    "\"\"\"\n",
    "4. Конец уроков\n",
    "https://informatics.msk.ru/mod/statements/view.php?id=2296&chapterid=2950#1 \n",
    "\n",
    "В некоторой школе занятия начинаются в 9:00. Продолжительность урока — 45 минут, после 1-го, 3-го, 5-го и т.д. уроков перемена 5 минут, а после 2-го, 4-го, 6-го и т.д. — 15 минут. Определите, когда заканчивается указанный урок.\n",
    "Входные данные\n",
    "Дан номер урока (число от 1 до 10).\n",
    "Выходные данные\n",
    "Выведите два целых числа: время окончания урока в часах и минутах. При решении этой задачи нельзя пользоваться циклами и условными инструкциями.\n",
    "\"\"\"\n",
    "n = int(input())\n",
    "print(f'{n=}')\n",
    "\n",
    "hour = 9\n",
    "minute = 45\n",
    "\n",
    "a = (n//2 * 50) + (((n-1)//2) * 60)\n",
    "\n",
    "hour += a // 60\n",
    "minute += a % 60\n",
    "hour += minute // 60\n",
    "minute = minute % 60\n",
    "\n",
    "print(f'{hour}:{minute:02}')"
   ]
  },
  {
   "cell_type": "code",
   "execution_count": 14,
   "metadata": {},
   "outputs": [
    {
     "name": "stdout",
     "output_type": "stream",
     "text": [
      "17:05\n"
     ]
    }
   ],
   "source": [
    "#4\n",
    "a = int(input())\n",
    "\n",
    "break_1 = a // 2\n",
    "break_2 = (a-1) // 2\n",
    "\n",
    "a = 9*60 + a*45 + break_1 * 5 + break_2 * 15\n",
    "\n",
    "print(f\"{a//60}:{a%60:02}\")\n"
   ]
  },
  {
   "cell_type": "code",
   "execution_count": 20,
   "metadata": {},
   "outputs": [
    {
     "name": "stdout",
     "output_type": "stream",
     "text": [
      "1\n"
     ]
    }
   ],
   "source": [
    "#5\n",
    "\"\"\"\n",
    "5. Какое из чисел больше?\n",
    "https://informatics.msk.ru/mod/statements/view.php?id=276&chapterid=293#1 \n",
    "\n",
    "Входные данные\n",
    "Даны два целых числа, каждое записано в отдельной строке.\n",
    "Выходные данные\n",
    "Программа должна вывести число 1, если первое число больше второго, число 2, если второе больше первого, или число 0, если они равны.\n",
    "\"\"\"\n",
    "\n",
    "a = int(input())\n",
    "b = int(input())\n",
    "\n",
    "if a > b:\n",
    "    print(1)\n",
    "elif a < b:\n",
    "    print(2)\n",
    "else:\n",
    "    print(0)"
   ]
  },
  {
   "cell_type": "code",
   "execution_count": 4,
   "metadata": {},
   "outputs": [
    {
     "name": "stdout",
     "output_type": "stream",
     "text": [
      "23\n"
     ]
    }
   ],
   "source": [
    "#6\n",
    "\"\"\"\n",
    "Ввод и вывод данных производятся через стандартные потоки ввода-вывода.\n",
    "Входные данные\n",
    "Даны три целых числа, каждое записано в отдельной строке.\n",
    "Выходные данные\n",
    "Выведите наибольшее из данных чисел (программа должна вывести ровно одно целое число).\n",
    "\"\"\"\n",
    "\n",
    "a = int(input())\n",
    "b = int(input())\n",
    "c = int(input())\n",
    "\n",
    "if a >= b and a >= c:\n",
    "    print(a)\n",
    "elif b >= c and b >= a:\n",
    "    print(b)\n",
    "else:\n",
    "    print(c)"
   ]
  },
  {
   "cell_type": "code",
   "execution_count": 101,
   "metadata": {},
   "outputs": [
    {
     "name": "stdout",
     "output_type": "stream",
     "text": [
      "no\n"
     ]
    }
   ],
   "source": [
    "#7\n",
    "\"\"\"\n",
    "7. Ладья\n",
    "https://informatics.msk.ru/mod/statements/view.php?id=276&chapterid=254#1 \n",
    "\n",
    "Ввод и вывод данных производятся через стандартные потоки ввода-вывода.\n",
    "Требуется определить, бьет ли ладья, стоящая на клетке с указанными координатами (номер строки и номер столбца), фигуру, стоящую на другой указанной клетке.\n",
    "Входные данные\n",
    "Вводятся четыре числа: координаты ладьи (два числа) и координаты другой фигуры (два числа), каждое число вводится в отдельной строке. Координаты - целые числа в интервале от 1 до 8.\n",
    "Выходные данные\n",
    "Требуется вывести слово YES, если ладья сможет побить фигуру за 1 ход и NO - в противном случае.\n",
    "\n",
    "\"\"\"\n",
    "a = int(input())\n",
    "b = int(input())\n",
    "c = int(input())\n",
    "d = int(input())\n",
    "\n",
    "if a == c or b == d:\n",
    "    print('yes')\n",
    "else:\n",
    "    print('no')"
   ]
  },
  {
   "cell_type": "code",
   "execution_count": 98,
   "metadata": {},
   "outputs": [
    {
     "name": "stdout",
     "output_type": "stream",
     "text": [
      "a=2, b=2, c=3\n",
      "yes\n"
     ]
    }
   ],
   "source": [
    "#8\n",
    "\"\"\"\n",
    "8. Существует ли треугольник?\n",
    "https://informatics.msk.ru/mod/statements/view.php?id=276&chapterid=295#1 \n",
    "\n",
    "Ввод и вывод данных производятся через стандартные потоки ввода-вывода.\n",
    "Входные данные\n",
    "Даны три натуральных числа a, b, c, записанные в отдельных строках. Определите, существует ли неворожденный треугольник с такими сторонами.\n",
    "Выходные данные\n",
    "Если треугольник существует, выведите строку YES, иначе выведите строку NO.\n",
    "\"\"\"\n",
    "a, b, c = map(int, input().split())\n",
    "print(f'{a=}, {b=}, {c=}')\n",
    "\n",
    "if a + b > c and a + c > b and b + c > a:\n",
    "    print('yes')\n",
    "else:\n",
    "    print('no')"
   ]
  },
  {
   "cell_type": "code",
   "execution_count": 94,
   "metadata": {},
   "outputs": [
    {
     "name": "stdout",
     "output_type": "stream",
     "text": [
      "a=2, b=1, c=1\n",
      "2\n"
     ]
    }
   ],
   "source": [
    "#9\n",
    "\"\"\"\n",
    "9. Количество равных из трех\n",
    "https://informatics.msk.ru/mod/statements/view.php?id=276&chapterid=296#1 \n",
    "\n",
    "Ввод и вывод данных производятся через стандартные потоки ввода-вывода.\n",
    "Входные данные\n",
    "Даны три целых числа, записанных в отдельных строках. Определите, сколько среди них совпадающих.\n",
    "Выходные данные\n",
    "Программа должна вывести одно из чисел: 3 (если все совпадают), 2 (если два совпадают) или 0 (если все числа различны).\n",
    "\"\"\"\n",
    "\n",
    "a, b, c = map(int, input().split())\n",
    "print(f'{a=}, {b=}, {c=}')\n",
    "\n",
    "if a == b == c:\n",
    "    print(3)\n",
    "elif a == b or b == c or a == c:\n",
    "    print(2)\n",
    "else:\n",
    "    print(0)\n"
   ]
  },
  {
   "cell_type": "code",
   "execution_count": 81,
   "metadata": {},
   "outputs": [
    {
     "name": "stdout",
     "output_type": "stream",
     "text": [
      "a=2, b=1, c=3\n",
      "1 2 3\n"
     ]
    }
   ],
   "source": [
    "#10\n",
    "\"\"\"\n",
    "10. Упорядочить три числа\n",
    "https://informatics.msk.ru/mod/statements/view.php?id=276&chapterid=2961#1 \n",
    "\n",
    "Ввод и вывод данных производятся через стандартные потоки ввода-вывода.\n",
    "Дано три числа, записанный в отдельных строках. Упорядочите их в порядке неубывания. Программа должна считывать три числа a, b, c, затем программа должна менять их значения так, чтобы стали выполнены условия a <= b <= c, затем программа выводит тройку a, b, c.\n",
    "Входные данные\n",
    "Вводятся три числа, каждое записано в отдельной строке.\n",
    "Выходные данные\n",
    "Выведите ответ на задачу.\n",
    "\"\"\"\n",
    "\n",
    "a, b, c = map(int, input().split())\n",
    "print(f'{a=}, {b=}, {c=}')\n",
    "\n",
    "while not (a <= b <= c):\n",
    "    if a > b:\n",
    "        a -= b\n",
    "        b += a\n",
    "        a = b - a\n",
    "    elif b > c:\n",
    "        b -= c\n",
    "        c += b\n",
    "        b = c - b\n",
    "\n",
    "print(a, b, c)"
   ]
  }
 ],
 "metadata": {
  "kernelspec": {
   "display_name": "Python 3.10.7 64-bit",
   "language": "python",
   "name": "python3"
  },
  "language_info": {
   "codemirror_mode": {
    "name": "ipython",
    "version": 3
   },
   "file_extension": ".py",
   "mimetype": "text/x-python",
   "name": "python",
   "nbconvert_exporter": "python",
   "pygments_lexer": "ipython3",
   "version": "3.10.7"
  },
  "orig_nbformat": 4,
  "vscode": {
   "interpreter": {
    "hash": "369f2c481f4da34e4445cda3fffd2e751bd1c4d706f27375911949ba6bb62e1c"
   }
  }
 },
 "nbformat": 4,
 "nbformat_minor": 2
}
