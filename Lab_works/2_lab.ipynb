{
 "cells": [
  {
   "cell_type": "code",
   "execution_count": 25,
   "metadata": {},
   "outputs": [
    {
     "name": "stdout",
     "output_type": "stream",
     "text": [
      "30 32 34 36 38 40 42 44 46 48 50 52 54 56 58 60 62 64 66 68 70 72 74 76 78 80 82 84 86 88 90 92 94 96 98 100 "
     ]
    }
   ],
   "source": [
    "#1\n",
    "\"\"\"\n",
    "1. Четные числа\n",
    "https://informatics.msk.ru/mod/statements/view.php?id=280#1 \n",
    "Ввод и вывод данных производятся через стандартные потоки ввода-вывода. Для хранения целых чисел необходимо использовать 4-байтовые переменные (например, тип longint в Free Pascal).\n",
    "Входные данные\n",
    "Вводятся целые числа a и b. Гарантируется, что a не превосходит b\n",
    "Выходные данные\n",
    "Выведите (через пробел) все четные числа от a до b (включительно).\n",
    "\"\"\"\n",
    "a = int(input())\n",
    "b = int(input())\n",
    "\n",
    "a += a%2\n",
    "\n",
    "while a <= b:\n",
    "    print(a, end=' ')\n",
    "    a += 2"
   ]
  },
  {
   "cell_type": "code",
   "execution_count": 37,
   "metadata": {},
   "outputs": [
    {
     "name": "stdout",
     "output_type": "stream",
     "text": [
      "3\n"
     ]
    }
   ],
   "source": [
    "#2\n",
    "\"\"\"\n",
    "2. Минимальный делитель\n",
    "https://informatics.msk.ru/mod/statements/view.php?id=280&chapterid=339#1 \n",
    "Ввод и вывод данных производятся через стандартные потоки ввода-вывода. Для хранения целых чисел необходимо использовать 4-байтовые переменные (например, тип longint в Free Pascal).\n",
    "Найдите самый маленький натуральный делитель числа x, отличный от 1 (2 <= x <= 30000).\n",
    "Входные данные\n",
    "Вводится натуральное число x.\n",
    "Выходные данные\n",
    "Выведите наименьший делитель числа x, отличный от 1.\n",
    "\"\"\"\n",
    "x = int(input())\n",
    "\n",
    "for i in range(2, x+1):\n",
    "    if x%i == 0:\n",
    "        print(i)\n",
    "        break\n"
   ]
  },
  {
   "cell_type": "code",
   "execution_count": 40,
   "metadata": {},
   "outputs": [
    {
     "name": "stdout",
     "output_type": "stream",
     "text": [
      "1 3 9 27 "
     ]
    }
   ],
   "source": [
    "#3\n",
    "\"\"\"\n",
    "3. Делители числа\n",
    "https://informatics.msk.ru/mod/statements/view.php?id=280&chapterid=340#1 \n",
    "Ввод и вывод данных производятся через стандартные потоки ввода-вывода. Для хранения целых чисел необходимо использовать 4-байтовые переменные (например, тип longint в Free Pascal).\n",
    "Выведите все натуральные делители числа x в порядке возрастания (включая 1 и само число).\n",
    "Входные данные\n",
    "Вводится натуральное число x\n",
    "Выходные данные\n",
    "\"\"\"\n",
    "x = int(input())\n",
    "\n",
    "for i in range(1, x+1):\n",
    "    if x%i == 0:\n",
    "        print(i, end=' ')"
   ]
  },
  {
   "cell_type": "code",
   "execution_count": 1,
   "metadata": {},
   "outputs": [
    {
     "name": "stdout",
     "output_type": "stream",
     "text": [
      "15\n"
     ]
    }
   ],
   "source": [
    "#4\n",
    "\"\"\"\n",
    "Вычислите сумму данных N натуральных чисел.\n",
    "Входные данные\n",
    "Вводится число N, а затем N чисел, сумму которых необходимо вычислить.\n",
    "Выходные данные\n",
    "Выведите единственное число - сумму введенных чисел.\n",
    "\"\"\"\n",
    "\n",
    "n = int(input())\n",
    "\n",
    "print(sum([int(input()) for i in range(n)]))"
   ]
  },
  {
   "cell_type": "code",
   "execution_count": 9,
   "metadata": {},
   "outputs": [
    {
     "name": "stdout",
     "output_type": "stream",
     "text": [
      "27\n",
      "27.0\n"
     ]
    }
   ],
   "source": [
    "#6\n",
    "\"\"\"\n",
    "Входные данные\n",
    "Вводится 2 числа - a (вещественное) и n (целое неотрицательное).\n",
    "Выходные данные\n",
    "Необходимо вывести  значение an.\n",
    "\"\"\"\n",
    "##1\n",
    "def init(a, n):\n",
    "    if n == 0:\n",
    "        return 1\n",
    "    elif n == 1:\n",
    "        return a\n",
    "    else:\n",
    "        s = 1\n",
    "        for i in range(n):\n",
    "            s *= a\n",
    "        return s\n",
    "print(init(3, 3))\n",
    "##2\n",
    "a = input().split()\n",
    "print(pow(float(a[0]),int(a[1])))"
   ]
  },
  {
   "cell_type": "code",
   "execution_count": 14,
   "metadata": {},
   "outputs": [
    {
     "data": {
      "text/plain": [
       "0"
      ]
     },
     "execution_count": 14,
     "metadata": {},
     "output_type": "execute_result"
    }
   ],
   "source": [
    "#7\n",
    "\"\"\"\n",
    "Напишите \"функцию голосования\" bool Election(bool x, bool y, bool z) (C/C++), function Election (x, y, z:boolean): boolean (Pascal), возвращающую то значение (true или false), которое среди значений ее аргументов x, y, z встречается чаще.\n",
    "Входные данные\n",
    "Вводится 3 числа - x, y и z (x, y и z равны 0 или 1, 0 соответствует значению false, 1 соответствует значению true).\n",
    "Выходные данные\n",
    "Необходимо вывести  значение функции от x, y и z.\n",
    "\"\"\"\n",
    "\n",
    "def election(x,y,z):\n",
    "    if x+y+z > 1:\n",
    "        return 1\n",
    "    else:\n",
    "        return 0\n",
    "\n",
    "election(0,0,1)"
   ]
  },
  {
   "cell_type": "code",
   "execution_count": null,
   "metadata": {},
   "outputs": [],
   "source": [
    "#8\n",
    "\"\"\"\n",
    "8. Реализуйте следующие функции для банковского счета\n",
    "Добавление денег на счет\n",
    "Передается float sum -> и далее он должен добавиться на счет. Например:\n",
    "addToBankAccount(500) -> если на счете 0 то должно поменяться на 500.\n",
    "Высчитывание денег со счета\n",
    "Передается float sum -> и далее он должен убрать деньги со счета. Например:\n",
    "substractFromBankAccount(200) -> если на счете 500 то должно поменяться на 300.\n",
    "Изменение валюты и перерасчет денег на счете (USD -> KZT). Если у вас счет в долларах, то следует вывести их в тенге\n",
    "Передается float sum и с какой валюты на какой -> и далее конвертация. Например: moneyConversion(300, USD, KZT) -> вы меняете 300$ -> на KZT то есть происходит умножение 300 * 470 = 14100\n",
    "\"\"\"\n",
    "\n",
    "def addToBankAccount(bank_account,a):\n",
    "    bank_account += a\n",
    "    return bank_account\n",
    "\n",
    "def substractFromBankAccount(bank_account,a):\n",
    "    bank_account -= a\n",
    "    return bank_account\n",
    "\n",
    "def moneyConversion(money, ex_from, ex_to):\n",
    "    match ex_from, ex_to:\n",
    "        case 'USD', 'KZT':\n",
    "            return money * 470\n",
    "        case 'KZT', 'USD':\n",
    "            return money / 470\n",
    "        case 'EUR', 'KZT':\n",
    "            return money * 480\n",
    "        case 'KZT', 'EUR':\n",
    "            return money / 480\n",
    "        case _:\n",
    "            return 'Invalid parametres'"
   ]
  }
 ],
 "metadata": {
  "kernelspec": {
   "display_name": "Python 3.10.7 64-bit",
   "language": "python",
   "name": "python3"
  },
  "language_info": {
   "codemirror_mode": {
    "name": "ipython",
    "version": 3
   },
   "file_extension": ".py",
   "mimetype": "text/x-python",
   "name": "python",
   "nbconvert_exporter": "python",
   "pygments_lexer": "ipython3",
   "version": "3.10.7"
  },
  "orig_nbformat": 4,
  "vscode": {
   "interpreter": {
    "hash": "369f2c481f4da34e4445cda3fffd2e751bd1c4d706f27375911949ba6bb62e1c"
   }
  }
 },
 "nbformat": 4,
 "nbformat_minor": 2
}
