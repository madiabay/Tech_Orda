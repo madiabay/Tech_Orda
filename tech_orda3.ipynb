{
 "cells": [
  {
   "cell_type": "markdown",
   "metadata": {},
   "source": [
    "# list, tuple, loop"
   ]
  },
  {
   "cell_type": "code",
   "execution_count": 1,
   "metadata": {},
   "outputs": [],
   "source": [
    "c = [f'{str(i)} great' for i in range(100001) if i>0] # 0.8 sekund"
   ]
  },
  {
   "cell_type": "code",
   "execution_count": 10,
   "metadata": {},
   "outputs": [],
   "source": [
    "c.append('rfwerf') # 0.3 sekund"
   ]
  },
  {
   "cell_type": "code",
   "execution_count": 16,
   "metadata": {},
   "outputs": [],
   "source": [
    "c.insert(0, 'erfewef') # 0.8 sekund потому что 1 капасити передвигается через все на нулевой индекс"
   ]
  },
  {
   "cell_type": "markdown",
   "metadata": {},
   "source": [
    "***Iterable — это объект, который можно перебирать или повторять с помощью цикла for. Такие объекты, как списки, кортежи, наборы, словари, строки и т. д., называются итерируемыми. Короче говоря, iterable — это все, что вы можете перебрать.***"
   ]
  },
  {
   "cell_type": "markdown",
   "metadata": {},
   "source": [
    "# Iterator - он сохраняет состояние текущего обьекта"
   ]
  },
  {
   "cell_type": "code",
   "execution_count": 10,
   "metadata": {},
   "outputs": [
    {
     "name": "stdout",
     "output_type": "stream",
     "text": [
      "[1, 2, 3, 4, 5, 6, 7]\n",
      "<list_iterator object at 0x0000024154BC6D70>\n",
      "<list_iterator object at 0x0000024154BC7880>\n",
      "1 2 3 4 5 6 7 \n",
      "1 2 3 4 5 6 7 "
     ]
    }
   ],
   "source": [
    "from typing import Iterable, Iterator\n",
    "\n",
    "num = [1,2,3,4,5,6,7] # this is iterable object\n",
    "num_tuple = (1,2,3,4,5,6,7)\n",
    "\n",
    "num_iter = iter(num)\n",
    "num_tuple_iter = iter(num)\n",
    "\n",
    "print(num)\n",
    "print(num_iter)\n",
    "print(num_tuple_iter)\n",
    "\n",
    "for i in num: # iterable\n",
    "    print(i, end=' ')\n",
    "print()\n",
    "for i in num_iter: # iterator\n",
    "    print(i, end=' ')"
   ]
  },
  {
   "cell_type": "code",
   "execution_count": 11,
   "metadata": {},
   "outputs": [
    {
     "ename": "TypeError",
     "evalue": "'list' object is not an iterator",
     "output_type": "error",
     "traceback": [
      "\u001b[1;31m---------------------------------------------------------------------------\u001b[0m",
      "\u001b[1;31mTypeError\u001b[0m                                 Traceback (most recent call last)",
      "Cell \u001b[1;32mIn [11], line 5\u001b[0m\n\u001b[0;32m      1\u001b[0m num \u001b[39m=\u001b[39m [\u001b[39m1\u001b[39m,\u001b[39m2\u001b[39m,\u001b[39m3\u001b[39m,\u001b[39m4\u001b[39m,\u001b[39m5\u001b[39m,\u001b[39m6\u001b[39m,\u001b[39m7\u001b[39m] \u001b[39m# this is iterable object\u001b[39;00m\n\u001b[0;32m      3\u001b[0m num_iter \u001b[39m=\u001b[39m \u001b[39miter\u001b[39m(num)\n\u001b[1;32m----> 5\u001b[0m \u001b[39mprint\u001b[39m(\u001b[39mnext\u001b[39;49m(num))\n",
      "\u001b[1;31mTypeError\u001b[0m: 'list' object is not an iterator"
     ]
    }
   ],
   "source": [
    "num = [1,2,3,4,5,6,7] # this is iterable object\n",
    "\n",
    "#num_iter = iter(num) # this is iterator\n",
    "\n",
    "print(next(num))"
   ]
  },
  {
   "cell_type": "code",
   "execution_count": 12,
   "metadata": {},
   "outputs": [
    {
     "name": "stdout",
     "output_type": "stream",
     "text": [
      "1\n",
      "2\n",
      "3\n"
     ]
    }
   ],
   "source": [
    "# Здесь уже используем итератор\n",
    "\n",
    "num = [1,2,3,4,5,6,7] # this is iterable object\n",
    "\n",
    "num_iter = iter(num) # this is iterator\n",
    "\n",
    "print(next(num_iter))\n",
    "print(next(num_iter))\n",
    "print(next(num_iter))"
   ]
  },
  {
   "cell_type": "code",
   "execution_count": 13,
   "metadata": {},
   "outputs": [
    {
     "name": "stdout",
     "output_type": "stream",
     "text": [
      "4\n"
     ]
    }
   ],
   "source": [
    "print(next(num_iter))"
   ]
  },
  {
   "cell_type": "code",
   "execution_count": 14,
   "metadata": {},
   "outputs": [
    {
     "name": "stdout",
     "output_type": "stream",
     "text": [
      "0 - Adlet\n",
      "1 - Madi\n",
      "2 - Amina\n",
      "3 - Kayrat\n"
     ]
    }
   ],
   "source": [
    "names = ['Adlet', 'Madi', 'Amina', 'Kayrat']\n",
    "\n",
    "for i, name in enumerate(names):\n",
    "    print(f'{i} - {name}')"
   ]
  },
  {
   "cell_type": "code",
   "execution_count": 16,
   "metadata": {},
   "outputs": [
    {
     "name": "stdout",
     "output_type": "stream",
     "text": [
      "0\n",
      "3\n",
      "6\n",
      "9\n"
     ]
    }
   ],
   "source": [
    "# аналог вот этого через enumerate - for i in range(0, 10, 3)\n",
    "\n",
    "#for i in range(0, 10, 3):\n",
    "#    print(i)\n",
    "\n",
    "for i, number in enumerate(range(10)):\n",
    "    if i%3 == 0:\n",
    "        print(i)"
   ]
  },
  {
   "cell_type": "code",
   "execution_count": 2,
   "metadata": {},
   "outputs": [
    {
     "name": "stdout",
     "output_type": "stream",
     "text": [
      "['Adlet', 'Amina']\n"
     ]
    }
   ],
   "source": [
    "names = ['Adlet', 'Madi', 'Amina', 'Kayrat']\n",
    "\n",
    "# list comprehension\n",
    "\n",
    "print([i for i in names if i[0] == 'A'])"
   ]
  },
  {
   "cell_type": "code",
   "execution_count": 5,
   "metadata": {},
   "outputs": [
    {
     "name": "stdout",
     "output_type": "stream",
     "text": [
      "['Kayrat', 'Kayrat', 'Kayrat', 'Kayrat', 'Adlet', 'Adlet', 'Adlet', 'Adlet']\n"
     ]
    }
   ],
   "source": [
    "# list comprehension\n",
    "names = (\n",
    "    ('Amina', 'Amina', 'Amina', 'Amina'),\n",
    "    ('Madi', 'Madi', 'Madi', 'Madi'),\n",
    "    ('Kayrat', 'Kayrat', 'Kayrat', 'Kayrat'),\n",
    "    ('Adlet', 'Adlet', 'Adlet', 'Adlet'),\n",
    ")\n",
    "\n",
    "print([j for i in names for j in i if j[-1] == 't'])"
   ]
  },
  {
   "cell_type": "code",
   "execution_count": 9,
   "metadata": {},
   "outputs": [
    {
     "name": "stdout",
     "output_type": "stream",
     "text": [
      "<generator object <genexpr> at 0x000001F16E0D37D0>\n",
      "Kayrat\n",
      "Kayrat\n",
      "Kayrat\n",
      "Kayrat\n",
      "Adlet\n"
     ]
    }
   ],
   "source": [
    "# GENERATOR comprehension\n",
    "# GENERATOR ДОЧЕРНИЙ КЛАСС ITERATOR-а\n",
    "names = (\n",
    "    ('Amina', 'Amina', 'Amina', 'Amina'),\n",
    "    ('Madi', 'Madi', 'Madi', 'Madi'),\n",
    "    ('Kayrat', 'Kayrat', 'Kayrat', 'Kayrat'),\n",
    "    ('Adlet', 'Adlet', 'Adlet', 'Adlet'),\n",
    ")\n",
    "\n",
    "print((j for i in names for j in i if j[-1] == 't')) # не лист а тапл\n",
    "\n",
    "a = (j for i in names for j in i if j[-1] == 't')\n",
    "\n",
    "print(next(a))\n",
    "print(next(a))\n",
    "print(next(a))\n",
    "print(next(a))\n",
    "print(next(a))"
   ]
  },
  {
   "cell_type": "code",
   "execution_count": 10,
   "metadata": {},
   "outputs": [
    {
     "name": "stdout",
     "output_type": "stream",
     "text": [
      "Madi\n",
      "Madi\n"
     ]
    }
   ],
   "source": [
    "# здесь ошибки нету потому что у нас в листе два Мади и метод next вызывается 2 раза \n",
    "# если мы здесь 3 раза вызовем метода next то выводится ОШИБКА StopIteration (ВНИЗУ ЕСТЬ ПРИМЕР) \n",
    "names = ['Adlet', 'Madi', 'Amina', 'Kayrat', 'Ali', 'Madi', 'Sabit', 'Sadi']\n",
    "\n",
    "gen_names = (n for n in names if n[0] == 'M') # generator\n",
    "\n",
    "print(next(gen_names))\n",
    "print(next(gen_names))\n",
    "# print(next(gen_names))"
   ]
  },
  {
   "cell_type": "code",
   "execution_count": 11,
   "metadata": {},
   "outputs": [
    {
     "name": "stdout",
     "output_type": "stream",
     "text": [
      "Madi\n",
      "Madi\n"
     ]
    },
    {
     "ename": "StopIteration",
     "evalue": "",
     "output_type": "error",
     "traceback": [
      "\u001b[1;31m---------------------------------------------------------------------------\u001b[0m",
      "\u001b[1;31mStopIteration\u001b[0m                             Traceback (most recent call last)",
      "Cell \u001b[1;32mIn [11], line 7\u001b[0m\n\u001b[0;32m      5\u001b[0m \u001b[39mprint\u001b[39m(\u001b[39mnext\u001b[39m(gen_names))\n\u001b[0;32m      6\u001b[0m \u001b[39mprint\u001b[39m(\u001b[39mnext\u001b[39m(gen_names))\n\u001b[1;32m----> 7\u001b[0m \u001b[39mprint\u001b[39m(\u001b[39mnext\u001b[39;49m(gen_names))\n",
      "\u001b[1;31mStopIteration\u001b[0m: "
     ]
    }
   ],
   "source": [
    "names = ['Adlet', 'Madi', 'Amina', 'Kayrat', 'Ali', 'Madi', 'Sabit', 'Sadi']\n",
    "\n",
    "gen_names = (n for n in names if n[0] == 'M') # generator\n",
    "\n",
    "print(next(gen_names))\n",
    "print(next(gen_names))\n",
    "print(next(gen_names))"
   ]
  },
  {
   "cell_type": "code",
   "execution_count": 12,
   "metadata": {},
   "outputs": [
    {
     "name": "stdout",
     "output_type": "stream",
     "text": [
      "Madi\n",
      "Madi\n",
      "None\n"
     ]
    }
   ],
   "source": [
    "# мы можем дать дефолтное значение чтобы не вышла ошибка StopIteration\n",
    "names = ['Adlet', 'Madi', 'Amina', 'Kayrat', 'Ali', 'Madi', 'Sabit', 'Sadi']\n",
    "\n",
    "gen_names = (n for n in names if n[0] == 'M') # generator\n",
    "\n",
    "print(next(gen_names))\n",
    "print(next(gen_names))\n",
    "print(next(gen_names, None))"
   ]
  },
  {
   "cell_type": "code",
   "execution_count": 29,
   "metadata": {},
   "outputs": [
    {
     "name": "stdout",
     "output_type": "stream",
     "text": [
      "Madi1\n",
      "Madi2\n"
     ]
    }
   ],
   "source": [
    "names = ['Adlet', 'Madi1', 'Amina', 'Kayrat', 'Ali', 'Madi2', 'Sabit', 'Sadi']\n",
    "gen_names = (n for n in names if n[0] == 'M')\n",
    "\n",
    "print(next(gen_names))\n",
    "print(next(gen_names)) # то есть здесь уже выводит второй Мади"
   ]
  },
  {
   "cell_type": "code",
   "execution_count": null,
   "metadata": {},
   "outputs": [],
   "source": []
  }
 ],
 "metadata": {
  "kernelspec": {
   "display_name": "Python 3.10.7 64-bit",
   "language": "python",
   "name": "python3"
  },
  "language_info": {
   "codemirror_mode": {
    "name": "ipython",
    "version": 3
   },
   "file_extension": ".py",
   "mimetype": "text/x-python",
   "name": "python",
   "nbconvert_exporter": "python",
   "pygments_lexer": "ipython3",
   "version": "3.10.7"
  },
  "orig_nbformat": 4,
  "vscode": {
   "interpreter": {
    "hash": "369f2c481f4da34e4445cda3fffd2e751bd1c4d706f27375911949ba6bb62e1c"
   }
  }
 },
 "nbformat": 4,
 "nbformat_minor": 2
}
