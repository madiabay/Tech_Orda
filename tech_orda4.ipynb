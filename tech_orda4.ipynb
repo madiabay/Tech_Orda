{
 "cells": [
  {
   "cell_type": "code",
   "execution_count": 12,
   "metadata": {},
   "outputs": [
    {
     "name": "stdout",
     "output_type": "stream",
     "text": [
      "{'name': 'Madi', 'surname': 'Abay', 'email': 'abaymadi1@gmail.com'}\n"
     ]
    }
   ],
   "source": [
    "d = {\n",
    "    'name': 'Madi',\n",
    "    'surname': 'Abay',\n",
    "    'email': 'abaymadi1@gmail.com',\n",
    "}\n",
    "\n",
    "print(d)"
   ]
  },
  {
   "cell_type": "code",
   "execution_count": 13,
   "metadata": {},
   "outputs": [
    {
     "name": "stdout",
     "output_type": "stream",
     "text": [
      "{'name': 'Madi', 'surname': 'Abay', 'email': 'abaymadi1@gmail.com', 'age': 21}\n"
     ]
    }
   ],
   "source": [
    "d['age'] = 21\n",
    "\n",
    "print(d)"
   ]
  },
  {
   "cell_type": "code",
   "execution_count": 14,
   "metadata": {},
   "outputs": [
    {
     "name": "stdout",
     "output_type": "stream",
     "text": [
      "('age', 21)\n",
      "{'name': 'Madi', 'surname': 'Abay', 'email': 'abaymadi1@gmail.com'}\n"
     ]
    }
   ],
   "source": [
    "a = d.popitem()\n",
    "\n",
    "print(a)\n",
    "\n",
    "print(d)"
   ]
  },
  {
   "cell_type": "code",
   "execution_count": 15,
   "metadata": {},
   "outputs": [
    {
     "name": "stdout",
     "output_type": "stream",
     "text": [
      "{'name': 'Madi', 'surname': 'Abay'}\n"
     ]
    }
   ],
   "source": [
    "d.pop('email')\n",
    "\n",
    "print(d)"
   ]
  },
  {
   "cell_type": "code",
   "execution_count": 16,
   "metadata": {},
   "outputs": [
    {
     "ename": "KeyError",
     "evalue": "'rfewrf'",
     "output_type": "error",
     "traceback": [
      "\u001b[1;31m---------------------------------------------------------------------------\u001b[0m",
      "\u001b[1;31mKeyError\u001b[0m                                  Traceback (most recent call last)",
      "Cell \u001b[1;32mIn [16], line 3\u001b[0m\n\u001b[0;32m      1\u001b[0m \u001b[39m# не существующий элемент\u001b[39;00m\n\u001b[1;32m----> 3\u001b[0m d\u001b[39m.\u001b[39;49mpop(\u001b[39m'\u001b[39;49m\u001b[39mrfewrf\u001b[39;49m\u001b[39m'\u001b[39;49m)\n",
      "\u001b[1;31mKeyError\u001b[0m: 'rfewrf'"
     ]
    }
   ],
   "source": [
    "# не существующий элемент\n",
    "\n",
    "d.pop('rfewrf')"
   ]
  },
  {
   "cell_type": "code",
   "execution_count": 20,
   "metadata": {},
   "outputs": [
    {
     "name": "stdout",
     "output_type": "stream",
     "text": [
      "{'name': 'Madi', 'surname': 'Abay'}\n",
      "dict_keys(['name', 'surname'])\n",
      "dict_values(['Madi', 'Abay'])\n"
     ]
    }
   ],
   "source": [
    "print(d)\n",
    "\n",
    "# keys\n",
    "print(d.keys())\n",
    "\n",
    "# values\n",
    "print(d.values())"
   ]
  },
  {
   "cell_type": "code",
   "execution_count": 24,
   "metadata": {},
   "outputs": [
    {
     "name": "stdout",
     "output_type": "stream",
     "text": [
      "{'name': 'Madi', 'surname': 'Abay'}\n",
      "Madi\n",
      "Madi\n",
      "\n",
      "None\n"
     ]
    },
    {
     "ename": "KeyError",
     "evalue": "'erfer'",
     "output_type": "error",
     "traceback": [
      "\u001b[1;31m---------------------------------------------------------------------------\u001b[0m",
      "\u001b[1;31mKeyError\u001b[0m                                  Traceback (most recent call last)",
      "Cell \u001b[1;32mIn [24], line 9\u001b[0m\n\u001b[0;32m      6\u001b[0m \u001b[39mprint\u001b[39m()\n\u001b[0;32m      8\u001b[0m \u001b[39mprint\u001b[39m(d\u001b[39m.\u001b[39mget(\u001b[39m'\u001b[39m\u001b[39merfer\u001b[39m\u001b[39m'\u001b[39m)) \u001b[39m# если нету такой ключ то выведет None\u001b[39;00m\n\u001b[1;32m----> 9\u001b[0m \u001b[39mprint\u001b[39m(d[\u001b[39m'\u001b[39;49m\u001b[39merfer\u001b[39;49m\u001b[39m'\u001b[39;49m]) \u001b[39m# если нету такой ключ то выведет KeyError\u001b[39;00m\n",
      "\u001b[1;31mKeyError\u001b[0m: 'erfer'"
     ]
    }
   ],
   "source": [
    "print(d)\n",
    "\n",
    "print(d['name'])\n",
    "print(d.get('name'))\n",
    "\n",
    "print()\n",
    "\n",
    "print(d.get('erfer')) # если нету такой ключ то выведет None\n",
    "print(d['erfer']) # если нету такой ключ то выведет KeyError"
   ]
  },
  {
   "cell_type": "code",
   "execution_count": 28,
   "metadata": {},
   "outputs": [
    {
     "name": "stdout",
     "output_type": "stream",
     "text": [
      "{'a': 2, 'b': 2}\n",
      "{'a': 2, 'b': 2}\n",
      "\n",
      "{'a': 1, 'b': 2}\n",
      "{'a': 2, 'b': 2}\n"
     ]
    }
   ],
   "source": [
    "# copy method\n",
    "\n",
    "d = {\n",
    "    'a': 1,\n",
    "    'b': 2,\n",
    "}\n",
    "\n",
    "new_d = d\n",
    "new_d['a'] = 2\n",
    "print(d)\n",
    "print(new_d) # то есть созданный экземпляр ссылается на тот обьект и если что то изменим то измениться все переменные которые ссылается на тот же обьект\n",
    "print()\n",
    "\n",
    "d = {\n",
    "    'a': 1,\n",
    "    'b': 2,\n",
    "}\n",
    "\n",
    "new_d = d.copy()\n",
    "new_d['a'] = 2\n",
    "print(d)\n",
    "print(new_d) # если используем метод copy то тогда такая проблема не будет"
   ]
  },
  {
   "cell_type": "code",
   "execution_count": 29,
   "metadata": {},
   "outputs": [
    {
     "name": "stdout",
     "output_type": "stream",
     "text": [
      "{'a': 1, 'b': 2}\n",
      "{'a': 1, 'b': 2, 'c': 3}\n"
     ]
    }
   ],
   "source": [
    "d = {\n",
    "    'a': 1,\n",
    "    'b': 2,\n",
    "}\n",
    "print(d)\n",
    "\n",
    "d2 = {\n",
    "    **d,\n",
    "    'c': 3,\n",
    "}\n",
    "print(d2)"
   ]
  },
  {
   "cell_type": "code",
   "execution_count": 36,
   "metadata": {},
   "outputs": [
    {
     "name": "stdout",
     "output_type": "stream",
     "text": [
      "surname\n",
      "name\n",
      "age\n",
      "email\n",
      "\n",
      "surname\n",
      "name\n",
      "age\n",
      "email\n"
     ]
    }
   ],
   "source": [
    "d = {\n",
    "    'surname': 'Abay',\n",
    "    'name': 'Madi',\n",
    "    'age': 21,\n",
    "    'email': 'abaymadi1@gmail.com'\n",
    "}\n",
    "\n",
    "for i in d:\n",
    "    print(i)\n",
    "print()\n",
    "for i in d.keys():\n",
    "    print(i)       # одинаковы"
   ]
  },
  {
   "cell_type": "code",
   "execution_count": 37,
   "metadata": {},
   "outputs": [
    {
     "name": "stdout",
     "output_type": "stream",
     "text": [
      "Abay\n",
      "Madi\n",
      "21\n",
      "abaymadi1@gmail.com\n"
     ]
    }
   ],
   "source": [
    "for i in d.values():\n",
    "    print(i)"
   ]
  },
  {
   "cell_type": "code",
   "execution_count": 39,
   "metadata": {},
   "outputs": [
    {
     "name": "stdout",
     "output_type": "stream",
     "text": [
      "surname---Abay\n",
      "name---Madi\n",
      "age---21\n",
      "email---abaymadi1@gmail.com\n"
     ]
    }
   ],
   "source": [
    "for key, value in d.items():\n",
    "    print(key, value, sep='---')"
   ]
  },
  {
   "cell_type": "code",
   "execution_count": 41,
   "metadata": {},
   "outputs": [
    {
     "name": "stdout",
     "output_type": "stream",
     "text": [
      "{'a': 1, 'c': 1, 'g': 1}\n"
     ]
    }
   ],
   "source": [
    "# dictionary comprehension\n",
    "\n",
    "d = {\n",
    "    'a': 1,\n",
    "    'b': 2,\n",
    "    'c': 1,\n",
    "    'd': 10,\n",
    "    'e': 89,\n",
    "    'f': 72,\n",
    "    'g': 1,\n",
    "}\n",
    "\n",
    "sort_d = {k: v for k, v in d.items() if v == 1}\n",
    "\n",
    "print(sort_d)"
   ]
  },
  {
   "cell_type": "code",
   "execution_count": 42,
   "metadata": {},
   "outputs": [
    {
     "name": "stdout",
     "output_type": "stream",
     "text": [
      "{1, 2, 72, 10, 89}\n"
     ]
    }
   ],
   "source": [
    "# set comprehension\n",
    "\n",
    "d = {\n",
    "    'a': 1,\n",
    "    'b': 2,\n",
    "    'c': 1,\n",
    "    'd': 10,\n",
    "    'e': 89,\n",
    "    'f': 72,\n",
    "    'g': 1,\n",
    "}\n",
    "\n",
    "set_compre = {value for key, value in d.items()}\n",
    "\n",
    "print(set_compre)"
   ]
  },
  {
   "cell_type": "code",
   "execution_count": 47,
   "metadata": {},
   "outputs": [
    {
     "name": "stdout",
     "output_type": "stream",
     "text": [
      "Madi\n",
      "(1, 2, 3, 4, 4, 2, 34, 23, 52, 34)\n",
      "{'littlename': 'Kayrosh', 'surname': 'Abay'}\n"
     ]
    }
   ],
   "source": [
    "def something(name: str, *args, **kwargs):\n",
    "    print(name)\n",
    "    print(args)\n",
    "    print(kwargs)\n",
    "\n",
    "something('Madi',1,2,3,4,4,2,34,23,52,34,littlename='Kayrosh',surname='Abay')"
   ]
  },
  {
   "cell_type": "code",
   "execution_count": 48,
   "metadata": {},
   "outputs": [],
   "source": [
    "# callable -> вызываемый обьект"
   ]
  }
 ],
 "metadata": {
  "kernelspec": {
   "display_name": "Python 3.10.7 64-bit",
   "language": "python",
   "name": "python3"
  },
  "language_info": {
   "codemirror_mode": {
    "name": "ipython",
    "version": 3
   },
   "file_extension": ".py",
   "mimetype": "text/x-python",
   "name": "python",
   "nbconvert_exporter": "python",
   "pygments_lexer": "ipython3",
   "version": "3.10.7"
  },
  "orig_nbformat": 4,
  "vscode": {
   "interpreter": {
    "hash": "369f2c481f4da34e4445cda3fffd2e751bd1c4d706f27375911949ba6bb62e1c"
   }
  }
 },
 "nbformat": 4,
 "nbformat_minor": 2
}
