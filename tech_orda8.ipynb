{
 "cells": [
  {
   "cell_type": "code",
   "execution_count": 3,
   "metadata": {},
   "outputs": [
    {
     "name": "stdout",
     "output_type": "stream",
     "text": [
      "you can not divide num to zero\n"
     ]
    }
   ],
   "source": [
    "num1, num2 = input().split()\n",
    "\n",
    "try:\n",
    "    num = int(num1) / int(num2)\n",
    "    print(num)\n",
    "except:\n",
    "    print('you can not divide num to zero')"
   ]
  },
  {
   "cell_type": "code",
   "execution_count": 5,
   "metadata": {},
   "outputs": [
    {
     "name": "stdout",
     "output_type": "stream",
     "text": [
      "you can not divide num to zero\n"
     ]
    }
   ],
   "source": [
    "num1, num2 = input().split()\n",
    "\n",
    "try:\n",
    "    num = int(num1) / int(num2)\n",
    "    print(num)\n",
    "except ZeroDivisionError: # лучше надо конкретизировать ошибку\n",
    "    print('you can not divide num to zero')"
   ]
  },
  {
   "cell_type": "code",
   "execution_count": 6,
   "metadata": {},
   "outputs": [
    {
     "name": "stdout",
     "output_type": "stream",
     "text": [
      "division by zero\n"
     ]
    }
   ],
   "source": [
    "num1, num2 = input().split()\n",
    "\n",
    "try:\n",
    "    num = int(num1) / int(num2)\n",
    "    print(num)\n",
    "except ZeroDivisionError as e: # мы можем сохранить ошибку\n",
    "    print(e)"
   ]
  },
  {
   "cell_type": "code",
   "execution_count": 11,
   "metadata": {},
   "outputs": [
    {
     "name": "stdout",
     "output_type": "stream",
     "text": [
      "0\n"
     ]
    }
   ],
   "source": [
    "# Есть опциональный метод finally. finally в любом случае выполнится несмотря try или except выполнится или нет\n",
    "\n",
    "num1, num2 = input().split()\n",
    "\n",
    "try:\n",
    "    num = int(num1) / int(num2)\n",
    "except ZeroDivisionError as e:\n",
    "    num = 0\n",
    "finally:\n",
    "    print(num)"
   ]
  },
  {
   "cell_type": "code",
   "execution_count": 12,
   "metadata": {},
   "outputs": [],
   "source": [
    "# raise вызывает exception-ы (то есть вызывает ошибки)"
   ]
  },
  {
   "cell_type": "code",
   "execution_count": 25,
   "metadata": {},
   "outputs": [
    {
     "name": "stdout",
     "output_type": "stream",
     "text": [
      "Madi\n"
     ]
    }
   ],
   "source": [
    "# our custom exception\n",
    "\n",
    "class ChildrenNotFound(Exception):\n",
    "    'Children not found in dict'\n",
    "    \n",
    "    message = 'Children not found'\n",
    "\n",
    "    def __str__(self) -> str:\n",
    "        return self.message\n",
    "\n",
    "\n",
    "children_list = [\n",
    "    'Adilet',\n",
    "    'Amina',\n",
    "    'Kayrat',\n",
    "    'Madi',\n",
    "]\n",
    "\n",
    "children = input('Enter your children name: ').split()\n",
    "\n",
    "try:\n",
    "    child = next((u for u in children if u in children_list), None)\n",
    "    \n",
    "    if not child:\n",
    "        raise ChildrenNotFound\n",
    "    print(child)\n",
    "except ChildrenNotFound as e:\n",
    "    print(e)"
   ]
  }
 ],
 "metadata": {
  "kernelspec": {
   "display_name": "Python 3",
   "language": "python",
   "name": "python3"
  },
  "language_info": {
   "codemirror_mode": {
    "name": "ipython",
    "version": 3
   },
   "file_extension": ".py",
   "mimetype": "text/x-python",
   "name": "python",
   "nbconvert_exporter": "python",
   "pygments_lexer": "ipython3",
   "version": "3.10.7 (tags/v3.10.7:6cc6b13, Sep  5 2022, 14:08:36) [MSC v.1933 64 bit (AMD64)]"
  },
  "orig_nbformat": 4,
  "vscode": {
   "interpreter": {
    "hash": "369f2c481f4da34e4445cda3fffd2e751bd1c4d706f27375911949ba6bb62e1c"
   }
  }
 },
 "nbformat": 4,
 "nbformat_minor": 2
}
