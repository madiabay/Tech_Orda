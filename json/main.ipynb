{
 "cells": [
  {
   "cell_type": "code",
   "execution_count": 1,
   "metadata": {},
   "outputs": [
    {
     "name": "stdout",
     "output_type": "stream",
     "text": [
      "[{'id': 1, 'username': 'madi', 'password': '123', 'wallets': [{'id': 1, 'cash': 1000}, {'id': 14, 'cash': 50000000}, {'id': 10, 'cash': 4000}]}, {'id': 2, 'username': 'adlet', 'password': 'bok', 'wallets': [{'id': 2, 'cash': 5097}]}, {'id': 3, 'username': 'kayrat', 'password': 'brawlstars', 'wallets': [{'id': 3, 'cash': 487}]}, {'id': 4, 'username': 'madi', 'password': '123'}, {'id': 5, 'username': 'adlet', 'password': 'bok'}, {'id': 6, 'username': 'kayrat', 'password': 'brawlstars'}, {'id': 7, 'username': 'madi', 'password': '123'}, {'id': 8, 'username': 'adlet', 'password': 'bok'}, {'id': 9, 'username': 'kayrat', 'password': 'brawlstars'}, {'id': 10, 'username': 'madi', 'password': '123'}, {'id': 11, 'username': 'adlet', 'password': 'bok'}, {'id': 12, 'username': 'kayrat', 'password': 'brawlstars'}, {'id': 13, 'username': 'madi', 'password': '123'}, {'id': 14, 'username': 'adlet', 'password': 'bok'}, {'id': 15, 'username': 'kayrat', 'password': 'brawlstars'}]\n"
     ]
    }
   ],
   "source": [
    "import json\n",
    "\n",
    "with open('users.json') as file:\n",
    "    data = json.load(file)\n",
    "\n",
    "    print(data)"
   ]
  },
  {
   "cell_type": "code",
   "execution_count": 2,
   "metadata": {},
   "outputs": [
    {
     "name": "stdout",
     "output_type": "stream",
     "text": [
      "[{'id': 1, 'username': 'madi', 'password': '123', 'wallets': [{'id': 1, 'cash': 1000}, {'id': 14, 'cash': 50000000}, {'id': 10, 'cash': 4000}]}, {'id': 2, 'username': 'adlet', 'password': 'bok', 'wallets': [{'id': 2, 'cash': 5097}]}, {'id': 3, 'username': 'kayrat', 'password': 'brawlstars', 'wallets': [{'id': 3, 'cash': 487}]}, {'id': 4, 'username': 'madi', 'password': '123'}, {'id': 5, 'username': 'adlet', 'password': 'bok'}, {'id': 6, 'username': 'kayrat', 'password': 'brawlstars'}, {'id': 7, 'username': 'madi', 'password': '123'}, {'id': 8, 'username': 'adlet', 'password': 'bok'}, {'id': 9, 'username': 'kayrat', 'password': 'brawlstars'}, {'id': 10, 'username': 'madi', 'password': '123'}, {'id': 11, 'username': 'adlet', 'password': 'bok'}, {'id': 12, 'username': 'kayrat', 'password': 'brawlstars'}, {'id': 13, 'username': 'madi', 'password': '123'}, {'id': 14, 'username': 'adlet', 'password': 'bok'}, {'id': 15, 'username': 'kayrat', 'password': 'brawlstars'}]\n"
     ]
    }
   ],
   "source": [
    "import json\n",
    "\n",
    "with open('users.json') as file:\n",
    "    data = json.loads(file.read())\n",
    "\n",
    "    print(data)"
   ]
  },
  {
   "cell_type": "code",
   "execution_count": 3,
   "metadata": {},
   "outputs": [
    {
     "name": "stdout",
     "output_type": "stream",
     "text": [
      "id: 2\n",
      "username: ali\n",
      "password: 1234\n"
     ]
    }
   ],
   "source": [
    "import json\n",
    "\n",
    "with open('user.json') as file:\n",
    "    data = json.load(file)\n",
    "\n",
    "    for key, value in data.items():\n",
    "        print(key, value, sep=': ')"
   ]
  },
  {
   "cell_type": "code",
   "execution_count": 24,
   "metadata": {},
   "outputs": [
    {
     "name": "stdout",
     "output_type": "stream",
     "text": [
      "CORRECT\n"
     ]
    }
   ],
   "source": [
    "# dump - сбрасывать, drop, дропаем\n",
    "\n",
    "with open('users.json', 'w') as file:\n",
    "    data = [\n",
    "        {\n",
    "            'id': 1,\n",
    "            'name': 'Madi',\n",
    "        },\n",
    "        {\n",
    "            'id': 2,\n",
    "            'name': 'Kayrat',\n",
    "        }\n",
    "    ]\n",
    "\n",
    "    json.dump('\\n', file, indent=4)\n",
    "    print('CORRECT')"
   ]
  },
  {
   "cell_type": "code",
   "execution_count": 6,
   "metadata": {},
   "outputs": [
    {
     "data": {
      "text/plain": [
       "[{'id': 1, 'cash': 1000},\n",
       " {'id': 14, 'cash': 50000000},\n",
       " {'id': 10, 'cash': 4000}]"
      ]
     },
     "execution_count": 6,
     "metadata": {},
     "output_type": "execute_result"
    }
   ],
   "source": [
    "import json\n",
    "from typing import List, NamedTuple\n",
    "\n",
    "\n",
    "class UserRepository(NamedTuple):\n",
    "    file_path: str\n",
    "\n",
    "    def create_user(self, username, password):\n",
    "        with open(self.file_path, mode='r') as file:\n",
    "            users: list = json.load(file)\n",
    "            users.append(\n",
    "                {\n",
    "                    'id': len(users) + 1,\n",
    "                    'username': username,\n",
    "                    'password': password,\n",
    "                })\n",
    "            \n",
    "        with open(self.file_path, mode='w') as file:\n",
    "            json.dump(users, file, indent=4)\n",
    "        print('USER SUCCESSFULLY CREATED')\n",
    "    \n",
    "\n",
    "    def login(self, username: str, password: str):\n",
    "        with open(self.file_path, mode='r') as file:\n",
    "            user = next(\n",
    "                (u for u in self._users if username == u['username'] and password == u['password']),\n",
    "                None\n",
    "            )\n",
    "\n",
    "            if not user:\n",
    "                return 'User not found'\n",
    "            return user['id']\n",
    "    \n",
    "    def get_user_wallets(self, user_id: int) -> List[dict]:\n",
    "        user = next(\n",
    "            (u for u in self._users if user_id == u['id']),\n",
    "            None\n",
    "        )\n",
    "\n",
    "        return user['wallets']\n",
    "    \n",
    "    @property\n",
    "    def _users(self) -> List[dict]:\n",
    "        with open(self.file_path, mode='r') as file:\n",
    "            return json.load(file)\n",
    "\n",
    "a = UserRepository('users.json')\n",
    "a.get_user_wallets(1)"
   ]
  },
  {
   "cell_type": "code",
   "execution_count": 57,
   "metadata": {},
   "outputs": [
    {
     "name": "stdout",
     "output_type": "stream",
     "text": [
      "User not found\n"
     ]
    }
   ],
   "source": [
    "print(a.login('amina', '132'))"
   ]
  },
  {
   "cell_type": "code",
   "execution_count": 58,
   "metadata": {},
   "outputs": [
    {
     "name": "stdout",
     "output_type": "stream",
     "text": [
      "1\n"
     ]
    }
   ],
   "source": [
    "print(a.login('madi', '123'))"
   ]
  },
  {
   "cell_type": "code",
   "execution_count": 60,
   "metadata": {},
   "outputs": [
    {
     "name": "stdout",
     "output_type": "stream",
     "text": [
      "[{'id': 1, 'cash': 1000}, {'id': 14, 'cash': 50000000}, {'id': 10, 'cash': 4000}]\n"
     ]
    }
   ],
   "source": [
    "id = a.login('madi', '123')\n",
    "print(a.get_user_wallets(id))"
   ]
  }
 ],
 "metadata": {
  "kernelspec": {
   "display_name": "Python 3",
   "language": "python",
   "name": "python3"
  },
  "language_info": {
   "codemirror_mode": {
    "name": "ipython",
    "version": 3
   },
   "file_extension": ".py",
   "mimetype": "text/x-python",
   "name": "python",
   "nbconvert_exporter": "python",
   "pygments_lexer": "ipython3",
   "version": "3.10.6"
  },
  "orig_nbformat": 4,
  "vscode": {
   "interpreter": {
    "hash": "916dbcbb3f70747c44a77c7bcd40155683ae19c65e1c03b4aa3499c5328201f1"
   }
  }
 },
 "nbformat": 4,
 "nbformat_minor": 2
}
