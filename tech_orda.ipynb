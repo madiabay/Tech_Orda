{
 "cells": [
  {
   "cell_type": "code",
   "execution_count": 2,
   "metadata": {},
   "outputs": [
    {
     "name": "stdout",
     "output_type": "stream",
     "text": [
      "frferf = 001\n"
     ]
    }
   ],
   "source": [
    "print(f'frferf = {1:03}')"
   ]
  },
  {
   "cell_type": "code",
   "execution_count": 3,
   "metadata": {},
   "outputs": [
    {
     "name": "stdout",
     "output_type": "stream",
     "text": [
      "this numbet - 00\n",
      "this numbet - 01\n",
      "this numbet - 02\n",
      "this numbet - 03\n",
      "this numbet - 04\n",
      "this numbet - 05\n",
      "this numbet - 06\n",
      "this numbet - 07\n",
      "this numbet - 08\n",
      "this numbet - 09\n",
      "this numbet - 10\n"
     ]
    }
   ],
   "source": [
    "# счетчик\n",
    "\n",
    "for i in range(11):\n",
    "    print(f'this numbet - {i:02}')"
   ]
  },
  {
   "cell_type": "code",
   "execution_count": 4,
   "metadata": {},
   "outputs": [
    {
     "name": "stdout",
     "output_type": "stream",
     "text": [
      "frferf = 1\n",
      "frferf =             1\n"
     ]
    }
   ],
   "source": [
    "# space\n",
    "print(f'frferf = {1}')\n",
    "print(f'frferf = {1:13}')"
   ]
  },
  {
   "cell_type": "code",
   "execution_count": 5,
   "metadata": {},
   "outputs": [
    {
     "name": "stdout",
     "output_type": "stream",
     "text": [
      "33.33\n"
     ]
    }
   ],
   "source": [
    "float_number = 33.33333333\n",
    "print(f'{float_number:.2f}')"
   ]
  },
  {
   "cell_type": "code",
   "execution_count": 6,
   "metadata": {},
   "outputs": [
    {
     "name": "stdout",
     "output_type": "stream",
     "text": [
      "33.67\n"
     ]
    }
   ],
   "source": [
    "# if greater than 5\n",
    "float_number = 33.666666666666666666\n",
    "print(f'{float_number:.2f}')"
   ]
  },
  {
   "cell_type": "code",
   "execution_count": 8,
   "metadata": {},
   "outputs": [
    {
     "name": "stdout",
     "output_type": "stream",
     "text": [
      "200.0%\n"
     ]
    }
   ],
   "source": [
    "\"\"\"\n",
    "0.10 \n",
    "\"\"\"\n",
    "percent = 2\n",
    "print(f\"{percent:.1%}\")"
   ]
  },
  {
   "cell_type": "code",
   "execution_count": 11,
   "metadata": {},
   "outputs": [
    {
     "name": "stdout",
     "output_type": "stream",
     "text": [
      "      John\n",
      "   John   \n",
      "John      \n",
      "___John___\n"
     ]
    }
   ],
   "source": [
    "person = 'John'\n",
    "\n",
    "print(f'{person:>10}')\n",
    "print(f'{person:^10}')\n",
    "print(f'{person:<10}')\n",
    "print(f'{person:_^10}')"
   ]
  },
  {
   "cell_type": "code",
   "execution_count": 14,
   "metadata": {},
   "outputs": [
    {
     "name": "stdout",
     "output_type": "stream",
     "text": [
      "$100,000,000,000\n",
      "$100_000_000_000\n",
      "$100,000,000,000.00\n",
      "$100,000,000,000.000\n"
     ]
    }
   ],
   "source": [
    "dollars = 100000000000\n",
    "print(f'${dollars:,}')\n",
    "print(f'${dollars:_}')\n",
    "print(f'${dollars:,.2f}')\n",
    "print(f'${dollars:,.3f}')"
   ]
  },
  {
   "cell_type": "code",
   "execution_count": 15,
   "metadata": {},
   "outputs": [
    {
     "name": "stdout",
     "output_type": "stream",
     "text": [
      "44000000000500\n"
     ]
    }
   ],
   "source": [
    "# если будет константа так будет удобно читать\n",
    "dollars = 44_000_000_000_500\n",
    "print(dollars)"
   ]
  },
  {
   "cell_type": "code",
   "execution_count": 16,
   "metadata": {},
   "outputs": [
    {
     "name": "stdout",
     "output_type": "stream",
     "text": [
      "name=Madi, surname=Abay\n",
      "name='Madi', surname='Abay'\n"
     ]
    }
   ],
   "source": [
    "name = 'Madi'\n",
    "surname = 'Abay'\n",
    "\n",
    "print(f'name={name}, surname={surname}')\n",
    "print(f'{name=}, {surname=}')"
   ]
  },
  {
   "cell_type": "code",
   "execution_count": 17,
   "metadata": {},
   "outputs": [
    {
     "name": "stdout",
     "output_type": "stream",
     "text": [
      "88\n",
      "64\n"
     ]
    }
   ],
   "source": [
    "# capacity\n",
    "\n",
    "a =  [1,2,3]\n",
    "b = (1,2,3)\n",
    "\n",
    "print(sys.getsizeof(a))\n",
    "print(sys.getsizeof(b))"
   ]
  }
 ],
 "metadata": {
  "kernelspec": {
   "display_name": "Python 3.10.7 64-bit",
   "language": "python",
   "name": "python3"
  },
  "language_info": {
   "codemirror_mode": {
    "name": "ipython",
    "version": 3
   },
   "file_extension": ".py",
   "mimetype": "text/x-python",
   "name": "python",
   "nbconvert_exporter": "python",
   "pygments_lexer": "ipython3",
   "version": "3.10.7"
  },
  "orig_nbformat": 4,
  "vscode": {
   "interpreter": {
    "hash": "369f2c481f4da34e4445cda3fffd2e751bd1c4d706f27375911949ba6bb62e1c"
   }
  }
 },
 "nbformat": 4,
 "nbformat_minor": 2
}
