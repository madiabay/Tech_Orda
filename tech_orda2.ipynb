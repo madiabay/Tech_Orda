{
 "cells": [
  {
   "cell_type": "markdown",
   "metadata": {},
   "source": [
    "pattern matching"
   ]
  },
  {
   "cell_type": "code",
   "execution_count": 5,
   "metadata": {},
   "outputs": [
    {
     "name": "stdout",
     "output_type": "stream",
     "text": [
      ".....\n"
     ]
    }
   ],
   "source": [
    "name = 123\n",
    "# name = 'Madi'\n",
    "\n",
    "match name:\n",
    "    case 'Madi':\n",
    "        print(f'hello {name}')\n",
    "    case 1:\n",
    "        print(1)\n",
    "    case _:\n",
    "        print('.....')"
   ]
  },
  {
   "cell_type": "code",
   "execution_count": 10,
   "metadata": {},
   "outputs": [
    {
     "name": "stdout",
     "output_type": "stream",
     "text": [
      "turn='right', go_kilometer='200'\n"
     ]
    }
   ],
   "source": [
    "string = 'right 200'\n",
    "\n",
    "match string.split():\n",
    "    case turn, go_kilometer:\n",
    "        print(f'{turn=}, {go_kilometer=}')\n",
    "    case _:\n",
    "        print('Opssss')"
   ]
  },
  {
   "cell_type": "code",
   "execution_count": 17,
   "metadata": {},
   "outputs": [
    {
     "name": "stdout",
     "output_type": "stream",
     "text": [
      "hedshot='shoot', go_to='500'\n"
     ]
    }
   ],
   "source": [
    "#string = 'right 200'\n",
    "string = 'shoot 500'\n",
    "\n",
    "match string.split():\n",
    "    case 'shoot' as hedshot, go_to:\n",
    "        print(f\"{hedshot=}, {go_to=}\")\n",
    "    case _:\n",
    "        print('Opssss')"
   ]
  },
  {
   "cell_type": "code",
   "execution_count": 20,
   "metadata": {},
   "outputs": [
    {
     "name": "stdout",
     "output_type": "stream",
     "text": [
      "direction='east', number='100'\n"
     ]
    }
   ],
   "source": [
    "#s1 = 'north 10'\n",
    "#s2 = 'south 20'\n",
    "#s3 = 'west 50'\n",
    "s4 = 'east 100'\n",
    "\n",
    "match s4.split():\n",
    "    case 'north' | 'south' | 'west' | 'east' as direction, number:\n",
    "        print(f'{direction=}, {number=}')\n",
    "    case _:\n",
    "        print('NO DIRECTION')"
   ]
  },
  {
   "cell_type": "code",
   "execution_count": 20,
   "metadata": {},
   "outputs": [
    {
     "name": "stdout",
     "output_type": "stream",
     "text": [
      "direction='south', number='20'\n"
     ]
    }
   ],
   "source": [
    "#s1 = 'north 10'\n",
    "s2 = 'south 20'\n",
    "#s3 = 'west 50'\n",
    "#s4 = 'east 100'\n",
    "\n",
    "match s2.split():\n",
    "    case 'north' | 'south' | 'west' | 'east' as direction, number:\n",
    "        print(f'{direction=}, {number=}')\n",
    "    case _:\n",
    "        print('NO DIRECTION')"
   ]
  },
  {
   "cell_type": "code",
   "execution_count": 21,
   "metadata": {},
   "outputs": [
    {
     "name": "stdout",
     "output_type": "stream",
     "text": [
      "NO DIRECTION\n"
     ]
    }
   ],
   "source": [
    "#s1 = 'north 10'\n",
    "#s2 = 'south 20'\n",
    "#s3 = 'west 50'\n",
    "#s4 = 'east 100'\n",
    "s5 = 'ewrfdf 2000'\n",
    "\n",
    "match s5.split():\n",
    "    case 'north' | 'south' | 'west' | 'east' as direction, number:\n",
    "        print(f'{direction=}, {number=}')\n",
    "    case _:\n",
    "        print('NO DIRECTION')"
   ]
  },
  {
   "cell_type": "code",
   "execution_count": 26,
   "metadata": {},
   "outputs": [
    {
     "name": "stdout",
     "output_type": "stream",
     "text": [
      "shoot\n",
      "['300', '120', '60', '30', '20', '10']\n",
      "<class 'list'>\n"
     ]
    }
   ],
   "source": [
    "text = 'shoot 300 120 60 30 20 10'\n",
    "\n",
    "match text.split():\n",
    "    case 'shoot' as shoot, *args:\n",
    "        print(shoot)\n",
    "        print(args)\n",
    "        print(type(args))\n",
    "    case _:\n",
    "        print('OOpsss')"
   ]
  },
  {
   "cell_type": "code",
   "execution_count": 29,
   "metadata": {},
   "outputs": [
    {
     "name": "stdout",
     "output_type": "stream",
     "text": [
      "XDXDXDXDXDXDXDXDXDXD\n"
     ]
    }
   ],
   "source": [
    "# то есть в паттерн мачинге только один кейс сработает  \n",
    "text = 'shoot 300 120 60 30 20 10'\n",
    "\n",
    "match text.split():\n",
    "    #case 'shoot', *numbers:\n",
    "    #    print(numbers)\n",
    "    #    print(type(numbers))\n",
    "    case 'shoot', s_300, s_120, s_60, s_30, s_20, s_10:\n",
    "        print('XDXDXDXDXDXDXDXDXDXD')\n",
    "    case _:\n",
    "        print('OOpsss')"
   ]
  },
  {
   "cell_type": "code",
   "execution_count": 30,
   "metadata": {},
   "outputs": [
    {
     "name": "stdout",
     "output_type": "stream",
     "text": [
      "shoot\n",
      "['300', '120', '60', '30', '20', '10']\n",
      "madi\n"
     ]
    }
   ],
   "source": [
    "text = 'shoot 300 120 60 30 20 10 madi'\n",
    "\n",
    "match text.split():\n",
    "    case 'shoot' as shoot, *numbers, 'madi' as madi:\n",
    "        print(shoot)\n",
    "        print(numbers)\n",
    "        print(madi)\n",
    "    case _:\n",
    "        print('OOpsss')"
   ]
  },
  {
   "cell_type": "markdown",
   "metadata": {},
   "source": [
    "# МОРЖ ИЛИ МАРЖА"
   ]
  },
  {
   "cell_type": "code",
   "execution_count": 32,
   "metadata": {},
   "outputs": [
    {
     "name": "stdout",
     "output_type": "stream",
     "text": [
      "(1, 2, 3, 4, 5)\n"
     ]
    }
   ],
   "source": [
    "# осы жерде быр минус бар, егер астындагы код быр класстын немесе быр функциянын ишинде болса то args айнымалысынын область видимость-ы общий болады. Осы минусты болдыртпау ушин быз маржа аркылы белгылы быр блокта гана колдана аламыз.\n",
    "\n",
    "def index(*args):\n",
    "    return args\n",
    "\n",
    "args = index(1,2,3,4,5)\n",
    "\n",
    "if args:\n",
    "    print(args)"
   ]
  },
  {
   "cell_type": "code",
   "execution_count": 33,
   "metadata": {},
   "outputs": [
    {
     "name": "stdout",
     "output_type": "stream",
     "text": [
      "False\n",
      "\n",
      "SUCCESS\n"
     ]
    }
   ],
   "source": [
    "# МОРЖ аркылы быз видимость-ты тек блок-та гана болатындай жасаймыз\n",
    "\n",
    "# МОРЖ(:=) - ПОЧЕМУ МОРЖ ПОТОМУ ЧТО ОПЕРАТОР ПОХОЖ НА МОРЖА\n",
    "\n",
    "# если функцияга аргумент бермесек ол FaLse болады\n",
    "print(bool(index()), end='\\n\\n')\n",
    "\n",
    "def index2(*args):\n",
    "    return args\n",
    "\n",
    "# если эта штучка срабатывает то она принтанет SUCCESS, и она будет доступна только в контексте блока if\n",
    "if args := index2(1,2,3,4,5):\n",
    "    print('SUCCESS')"
   ]
  },
  {
   "cell_type": "code",
   "execution_count": 34,
   "metadata": {},
   "outputs": [],
   "source": [
    "list_users = [\n",
    "    {\n",
    "        'surname': 'Abay',\n",
    "        'name': 'Madi',\n",
    "        'age': 21,\n",
    "        'live in': 'Almaty',\n",
    "    },\n",
    "    {\n",
    "        'surname': 'Abay',\n",
    "        'name': 'Adlet',\n",
    "        'age': 24,\n",
    "        'live in': 'Almaty',\n",
    "    },\n",
    "    {\n",
    "        'surname': 'Akyn',\n",
    "        'name': 'Ali',\n",
    "        'age': 20,\n",
    "        'live in': 'Shymkent',\n",
    "    },\n",
    "    {\n",
    "        'surname': 'Makhmetova',\n",
    "        'name': 'Almagul',\n",
    "        'age': 36,\n",
    "        'live in': 'Shymkent',\n",
    "    },\n",
    "]"
   ]
  },
  {
   "cell_type": "code",
   "execution_count": 62,
   "metadata": {},
   "outputs": [
    {
     "name": "stdout",
     "output_type": "stream",
     "text": [
      "24 Almaty\n"
     ]
    }
   ],
   "source": [
    "for i in list_users:\n",
    "    match i:\n",
    "        case {'age': 24 as age, 'live in': live_in}:\n",
    "            print(age, live_in)"
   ]
  },
  {
   "cell_type": "code",
   "execution_count": 35,
   "metadata": {},
   "outputs": [
    {
     "name": "stdout",
     "output_type": "stream",
     "text": [
      "Ali 20 Shymkent\n",
      "Almagul 36 Shymkent\n"
     ]
    }
   ],
   "source": [
    "for i in list_users:\n",
    "    match i:\n",
    "        case {'name': name, 'age': age, 'live in': 'Shymkent' as live_in}:\n",
    "            print(name, age, live_in)"
   ]
  },
  {
   "cell_type": "code",
   "execution_count": 36,
   "metadata": {},
   "outputs": [
    {
     "name": "stdout",
     "output_type": "stream",
     "text": [
      "Madi 21 Almaty\n"
     ]
    }
   ],
   "source": [
    "for i in list_users:\n",
    "    match i:\n",
    "        case {'name': 'Madi' as name, 'age': age, 'live in': live_in}:\n",
    "            print(name, age, live_in)"
   ]
  },
  {
   "cell_type": "code",
   "execution_count": 37,
   "metadata": {},
   "outputs": [
    {
     "name": "stdout",
     "output_type": "stream",
     "text": [
      "invalid user\n",
      "Adlet 24 Almaty\n",
      "invalid user\n",
      "invalid user\n"
     ]
    }
   ],
   "source": [
    "for i in list_users:\n",
    "    match i:\n",
    "        case {'name': 'Adlet' as name, 'age': age, 'live in': live_in}:\n",
    "            print(name, age, live_in)\n",
    "        case _:\n",
    "            print('invalid user')"
   ]
  },
  {
   "cell_type": "code",
   "execution_count": 38,
   "metadata": {},
   "outputs": [
    {
     "name": "stdout",
     "output_type": "stream",
     "text": [
      "invalid user\n",
      "invalid user\n",
      "invalid user\n",
      "Almagul 36 Shymkent\n"
     ]
    }
   ],
   "source": [
    "for i in list_users:\n",
    "    match i:\n",
    "        case {'name': name, 'age': 36 as age, 'live in': live_in}:\n",
    "            print(name, age, live_in)\n",
    "        case _:\n",
    "            print('invalid user')"
   ]
  },
  {
   "cell_type": "code",
   "execution_count": 39,
   "metadata": {},
   "outputs": [
    {
     "name": "stdout",
     "output_type": "stream",
     "text": [
      "Madi is admin\n",
      "Almagul is NOT admin\n",
      "Ali is admin\n"
     ]
    }
   ],
   "source": [
    "list = [\n",
    "    {\n",
    "        'surname': 'Abay',\n",
    "        'name': 'Madi',\n",
    "        'age': 21,\n",
    "        'live in': 'Almaty',\n",
    "        'is_admin': True,\n",
    "    },\n",
    "    {\n",
    "        'surname': 'Makhmetova',\n",
    "        'name': 'Almagul',\n",
    "        'age': 36,\n",
    "        'live in': 'Shymkent',\n",
    "        'is_admin': False,\n",
    "    },\n",
    "    {\n",
    "        'surname': 'Akyn',\n",
    "        'name': 'Ali',\n",
    "        'age': 20,\n",
    "        'live in': 'Taraz',\n",
    "        'is_admin': True,\n",
    "    }\n",
    "    ]\n",
    "\n",
    "for i in list:\n",
    "    match i:\n",
    "        case {'name': name, 'is_admin': True}:\n",
    "            print(f'{name} is admin')\n",
    "        case {'name': name}:\n",
    "            print(f'{name} is NOT admin')"
   ]
  },
  {
   "cell_type": "markdown",
   "metadata": {},
   "source": [
    "/////////////////////////////////////////////////////////"
   ]
  },
  {
   "cell_type": "markdown",
   "metadata": {},
   "source": [
    "# pattern matching with classes"
   ]
  },
  {
   "cell_type": "code",
   "execution_count": 55,
   "metadata": {},
   "outputs": [],
   "source": [
    "from dataclasses import dataclass\n",
    "\n",
    "@dataclass\n",
    "class User(object):\n",
    "    name: str\n",
    "    surname: str"
   ]
  },
  {
   "cell_type": "code",
   "execution_count": 53,
   "metadata": {},
   "outputs": [
    {
     "name": "stdout",
     "output_type": "stream",
     "text": [
      "My fullname is Madi Abay\n"
     ]
    }
   ],
   "source": [
    "person = User(name='Madi', surname='Abay')\n",
    "\n",
    "match person:\n",
    "    case User(name=name_in_print, surname=surname_in_print):\n",
    "        print(f'My fullname is {name_in_print} {surname_in_print}')\n",
    "    case _:\n",
    "        print('ERROR')"
   ]
  },
  {
   "cell_type": "code",
   "execution_count": 48,
   "metadata": {},
   "outputs": [
    {
     "name": "stdout",
     "output_type": "stream",
     "text": [
      "My fullname is Madi Abay\n",
      "My fullname is Madi Sailaubai\n",
      "ERROR\n",
      "ERROR\n",
      "My fullname is Madi Turysbek\n"
     ]
    }
   ],
   "source": [
    "tuple_USERS = (\n",
    "    User(name='Madi', surname='Abay'),\n",
    "    User(name='Madi', surname='Sailaubai'),\n",
    "    User(name='Ali', surname='Akyn'),\n",
    "    User(name='Amina', surname='Baimakhan'),\n",
    "    User(name='Madi', surname='Turysbek'),\n",
    ")\n",
    "\n",
    "for user in tuple_USERS:\n",
    "    match user:\n",
    "        case User(name='Madi' as name_in_print, surname=surname_in_print):\n",
    "            print(f'My fullname is {name_in_print} {surname_in_print}')\n",
    "        case _:\n",
    "            print('ERROR')"
   ]
  },
  {
   "cell_type": "code",
   "execution_count": 56,
   "metadata": {},
   "outputs": [
    {
     "name": "stdout",
     "output_type": "stream",
     "text": [
      "my name is Madi\n",
      "name in dict is name\n"
     ]
    }
   ],
   "source": [
    "person1 = User(name='Madi', surname='Abay')\n",
    "person2 = {'name': 'name', 'surname': 'surname'}\n",
    "\n",
    "match (person1, person2):\n",
    "    case User(name='Madi' as madi), {'name': 'name' as name_in_dict}: # вот здесь мы показываем что вот это - User(name='Madi' as madi) шаблон, то есть здесь не вызывается сам класс\n",
    "        print(f'my name is {madi}')\n",
    "        print(f'name in dict is {name_in_dict}')\n",
    "    case _:\n",
    "        print('ERROR')"
   ]
  }
 ],
 "metadata": {
  "kernelspec": {
   "display_name": "Python 3.10.7 64-bit",
   "language": "python",
   "name": "python3"
  },
  "language_info": {
   "codemirror_mode": {
    "name": "ipython",
    "version": 3
   },
   "file_extension": ".py",
   "mimetype": "text/x-python",
   "name": "python",
   "nbconvert_exporter": "python",
   "pygments_lexer": "ipython3",
   "version": "3.10.7"
  },
  "orig_nbformat": 4,
  "vscode": {
   "interpreter": {
    "hash": "369f2c481f4da34e4445cda3fffd2e751bd1c4d706f27375911949ba6bb62e1c"
   }
  }
 },
 "nbformat": 4,
 "nbformat_minor": 2
}
