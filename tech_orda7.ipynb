{
 "cells": [
  {
   "cell_type": "code",
   "execution_count": 3,
   "metadata": {},
   "outputs": [],
   "source": [
    "from dataclasses import dataclass\n",
    "\n",
    "@dataclass\n",
    "class User:\n",
    "    name: str\n",
    "    surname: str\n",
    "    age: int\n",
    "    gender: str\n",
    "    is_admin: bool"
   ]
  },
  {
   "cell_type": "code",
   "execution_count": 5,
   "metadata": {},
   "outputs": [],
   "source": [
    "a = User(name='Madi', surname='Abay', age=21, gender='male', is_admin=True)"
   ]
  },
  {
   "cell_type": "code",
   "execution_count": 6,
   "metadata": {},
   "outputs": [
    {
     "data": {
      "text/plain": [
       "True"
      ]
     },
     "execution_count": 6,
     "metadata": {},
     "output_type": "execute_result"
    }
   ],
   "source": [
    "a.is_admin"
   ]
  },
  {
   "cell_type": "code",
   "execution_count": 7,
   "metadata": {},
   "outputs": [
    {
     "data": {
      "text/plain": [
       "21"
      ]
     },
     "execution_count": 7,
     "metadata": {},
     "output_type": "execute_result"
    }
   ],
   "source": [
    "a.age"
   ]
  },
  {
   "cell_type": "code",
   "execution_count": 1,
   "metadata": {},
   "outputs": [
    {
     "name": "stdout",
     "output_type": "stream",
     "text": [
      "User(name='erf', surname='ewrf', age=123, gender='rwede', is_admin=False)\n"
     ]
    }
   ],
   "source": [
    "from dataclasses import dataclass, field\n",
    "\n",
    "@dataclass\n",
    "class User:\n",
    "    name: str\n",
    "    surname: str\n",
    "    age: int\n",
    "    gender: str\n",
    "    is_admin: bool = field(init=False, default=False) # здесь этот обьект инициализировать или нет -> true or false\n",
    "\n",
    "a = User('erf', 'ewrf', 123, 'rwede',)\n",
    "print(a)"
   ]
  },
  {
   "cell_type": "code",
   "execution_count": 14,
   "metadata": {},
   "outputs": [
    {
     "name": "stdout",
     "output_type": "stream",
     "text": [
      "User(name='Madi', surname='Abay', age=21, gender='male')\n"
     ]
    }
   ],
   "source": [
    "from dataclasses import dataclass, field\n",
    "\n",
    "@dataclass\n",
    "class User:\n",
    "    name: str\n",
    "    surname: str\n",
    "    age: int\n",
    "    gender: str\n",
    "    is_admin: bool = field(init=True, default=False, repr=False) # c помощью repr -а мы это поле не увидим когда принтанём\n",
    "\n",
    "a = User(name='Madi', surname='Abay', age=21, gender='male', is_admin=True)\n",
    "\n",
    "print(a)"
   ]
  },
  {
   "cell_type": "code",
   "execution_count": 16,
   "metadata": {},
   "outputs": [
    {
     "name": "stdout",
     "output_type": "stream",
     "text": [
      "User(name='Madi', surname='Abay', age=21, gender='male', full_name='Madi Abay')\n"
     ]
    }
   ],
   "source": [
    "# дандер метод __post_init__ исполнится сразу после дандер метода __init__\n",
    "\n",
    "from dataclasses import dataclass, field\n",
    "\n",
    "@dataclass\n",
    "class User:\n",
    "    name: str\n",
    "    surname: str\n",
    "    age: int\n",
    "    gender: str\n",
    "    is_admin: bool = field(init=True, default=False, repr=False)\n",
    "    full_name: str = field(init=False)\n",
    "\n",
    "    def __post_init__(self):\n",
    "        self.full_name = f'{self.name} {self.surname}'\n",
    "\n",
    "a = User(name='Madi', surname='Abay', age=21, gender='male', is_admin=True)\n",
    "\n",
    "print(a)"
   ]
  },
  {
   "cell_type": "code",
   "execution_count": 18,
   "metadata": {},
   "outputs": [],
   "source": [
    "a.repr = 'wedwed'"
   ]
  },
  {
   "cell_type": "code",
   "execution_count": 19,
   "metadata": {},
   "outputs": [
    {
     "data": {
      "text/plain": [
       "'wedwed'"
      ]
     },
     "execution_count": 19,
     "metadata": {},
     "output_type": "execute_result"
    }
   ],
   "source": [
    "a.repr"
   ]
  },
  {
   "cell_type": "code",
   "execution_count": 20,
   "metadata": {},
   "outputs": [
    {
     "data": {
      "text/plain": [
       "'male'"
      ]
     },
     "execution_count": 20,
     "metadata": {},
     "output_type": "execute_result"
    }
   ],
   "source": [
    "a.gender"
   ]
  },
  {
   "cell_type": "code",
   "execution_count": 21,
   "metadata": {},
   "outputs": [
    {
     "data": {
      "text/plain": [
       "'female'"
      ]
     },
     "execution_count": 21,
     "metadata": {},
     "output_type": "execute_result"
    }
   ],
   "source": [
    "a.gender = 'female'\n",
    "a.gender"
   ]
  },
  {
   "cell_type": "code",
   "execution_count": 3,
   "metadata": {},
   "outputs": [],
   "source": [
    "# чтобы не изменять или не добавлять атрибуты как на верху мы заморозим\n",
    "\n",
    "from dataclasses import dataclass, field\n",
    "\n",
    "@dataclass(frozen=True)\n",
    "class User:\n",
    "    name: str\n",
    "    surname: str\n",
    "    age: int\n",
    "    gender: str\n",
    "\n",
    "b = User(name='Madi', surname='Abay', age=21, gender='male',)"
   ]
  },
  {
   "cell_type": "code",
   "execution_count": 24,
   "metadata": {},
   "outputs": [
    {
     "ename": "FrozenInstanceError",
     "evalue": "cannot assign to field 'is_admin'",
     "output_type": "error",
     "traceback": [
      "\u001b[1;31m---------------------------------------------------------------------------\u001b[0m",
      "\u001b[1;31mFrozenInstanceError\u001b[0m                       Traceback (most recent call last)",
      "Cell \u001b[1;32mIn [24], line 1\u001b[0m\n\u001b[1;32m----> 1\u001b[0m b\u001b[39m.\u001b[39;49mis_admin \u001b[39m=\u001b[39m \u001b[39mTrue\u001b[39;00m\n",
      "File \u001b[1;32m<string>:4\u001b[0m, in \u001b[0;36m__setattr__\u001b[1;34m(self, name, value)\u001b[0m\n",
      "\u001b[1;31mFrozenInstanceError\u001b[0m: cannot assign to field 'is_admin'"
     ]
    }
   ],
   "source": [
    "b.is_admin = True"
   ]
  },
  {
   "cell_type": "code",
   "execution_count": 4,
   "metadata": {},
   "outputs": [
    {
     "name": "stdout",
     "output_type": "stream",
     "text": [
      "male\n"
     ]
    },
    {
     "ename": "FrozenInstanceError",
     "evalue": "cannot assign to field 'gender'",
     "output_type": "error",
     "traceback": [
      "\u001b[1;31m---------------------------------------------------------------------------\u001b[0m",
      "\u001b[1;31mFrozenInstanceError\u001b[0m                       Traceback (most recent call last)",
      "Cell \u001b[1;32mIn [4], line 2\u001b[0m\n\u001b[0;32m      1\u001b[0m \u001b[39mprint\u001b[39m(b\u001b[39m.\u001b[39mgender)\n\u001b[1;32m----> 2\u001b[0m b\u001b[39m.\u001b[39;49mgender \u001b[39m=\u001b[39m \u001b[39m'\u001b[39m\u001b[39mfemale\u001b[39m\u001b[39m'\u001b[39m\n",
      "File \u001b[1;32m<string>:4\u001b[0m, in \u001b[0;36m__setattr__\u001b[1;34m(self, name, value)\u001b[0m\n",
      "\u001b[1;31mFrozenInstanceError\u001b[0m: cannot assign to field 'gender'"
     ]
    }
   ],
   "source": [
    "print(b.gender)\n",
    "b.gender = 'female'"
   ]
  },
  {
   "cell_type": "code",
   "execution_count": 26,
   "metadata": {},
   "outputs": [
    {
     "name": "stdout",
     "output_type": "stream",
     "text": [
      "User(name='Madi', surname='Abay', age=21, gender='male')\n"
     ]
    }
   ],
   "source": [
    "# это как типа dataclass с атрибутом frozen=True\n",
    "# Если нам надо только опрокинуть атрибуты через конструктор и их использовать, и при этом мы не будем их менять то нужно использовать NamedTuple\n",
    "# @dataclass занимает больше памяти чем NamedTuple. Еще NamedTuple инициализируется быстрее. \n",
    "\n",
    "from typing import NamedTuple\n",
    "\n",
    "\n",
    "class User(NamedTuple):\n",
    "    name: str\n",
    "    surname: str\n",
    "    age: int\n",
    "    gender: str\n",
    "\n",
    "a = User(name='Madi', surname='Abay', age=21, gender='male')\n",
    "\n",
    "print(a)"
   ]
  },
  {
   "cell_type": "markdown",
   "metadata": {},
   "source": [
    "# INTERFACE (АБСТРАКТНЫЕ МЕТОДЫ -> ABC, abstractmethod)"
   ]
  },
  {
   "cell_type": "code",
   "execution_count": 5,
   "metadata": {},
   "outputs": [],
   "source": [
    "from abc import ABC, abstractmethod\n",
    "\n",
    "class Drawable(ABC):\n",
    "\n",
    "    @abstractmethod\n",
    "    def get_amazing_art():\n",
    "        raise NotImplementedError"
   ]
  },
  {
   "cell_type": "code",
   "execution_count": 6,
   "metadata": {},
   "outputs": [
    {
     "ename": "TypeError",
     "evalue": "Can't instantiate abstract class Drawable with abstract method get_amazing_art",
     "output_type": "error",
     "traceback": [
      "\u001b[1;31m---------------------------------------------------------------------------\u001b[0m",
      "\u001b[1;31mTypeError\u001b[0m                                 Traceback (most recent call last)",
      "Cell \u001b[1;32mIn [6], line 1\u001b[0m\n\u001b[1;32m----> 1\u001b[0m a \u001b[39m=\u001b[39m Drawable()\n",
      "\u001b[1;31mTypeError\u001b[0m: Can't instantiate abstract class Drawable with abstract method get_amazing_art"
     ]
    }
   ],
   "source": [
    "a = Drawable()"
   ]
  },
  {
   "cell_type": "code",
   "execution_count": 5,
   "metadata": {},
   "outputs": [
    {
     "name": "stdout",
     "output_type": "stream",
     "text": [
      "Some amazing art using pen\n"
     ]
    }
   ],
   "source": [
    "from abc import ABC, abstractmethod\n",
    "\n",
    "class Drawable(ABC):\n",
    "\n",
    "    @abstractmethod\n",
    "    def get_amazing_art(self) -> str:\n",
    "        raise NotImplementedError\n",
    "\n",
    "\n",
    "class Pen(Drawable):\n",
    "    def get_amazing_art(self) -> str:\n",
    "        return 'Some amazing art using pen'\n",
    "\n",
    "\n",
    "def get_art_from_drawable(drawable: Drawable) -> None:\n",
    "    print(drawable.get_amazing_art())\n",
    "\n",
    "\n",
    "pen = Pen()\n",
    "get_art_from_drawable(pen)"
   ]
  },
  {
   "cell_type": "code",
   "execution_count": 7,
   "metadata": {},
   "outputs": [
    {
     "name": "stdout",
     "output_type": "stream",
     "text": [
      "Some amazing art by Madi\n"
     ]
    }
   ],
   "source": [
    "from abc import ABC, abstractmethod\n",
    "from dataclasses import dataclass\n",
    "\n",
    "class Drawable(ABC):\n",
    "\n",
    "    @abstractmethod\n",
    "    def get_amazing_art(self) -> str:\n",
    "        raise NotImplementedError\n",
    "\n",
    "@dataclass\n",
    "class Pen(Drawable):\n",
    "\n",
    "    name: str\n",
    "\n",
    "    def get_amazing_art(self) -> str:\n",
    "        return f'Some amazing art by {self.name}'\n",
    "\n",
    "\n",
    "def get_art_from_drawable(drawable: Drawable) -> None:\n",
    "    print(drawable.get_amazing_art())\n",
    "\n",
    "\n",
    "pen = Pen(name='Madi')\n",
    "get_art_from_drawable(pen)"
   ]
  },
  {
   "cell_type": "code",
   "execution_count": 15,
   "metadata": {},
   "outputs": [
    {
     "name": "stdout",
     "output_type": "stream",
     "text": [
      "Some amazing art by ...\n"
     ]
    }
   ],
   "source": [
    "from abc import ABC, abstractmethod\n",
    "from dataclasses import dataclass\n",
    "\n",
    "class Drawable(ABC):\n",
    "\n",
    "    @abstractmethod\n",
    "    def get_amazing_art(self) -> str:\n",
    "        raise NotImplementedError\n",
    "\n",
    "@dataclass\n",
    "class Pen(Drawable):\n",
    "\n",
    "    name: str\n",
    "\n",
    "    def get_amazing_art(self) -> str:\n",
    "        return f'Some amazing art by {self.name}'\n",
    "\n",
    "class Pencil(Drawable):\n",
    "    def get_amazing_art(self) -> str:\n",
    "        return f'Some amazing art by ...'\n",
    "\n",
    "\n",
    "def get_art_from_drawable(drawable: Drawable) -> None:\n",
    "    print(drawable.get_amazing_art())\n",
    "\n",
    "command = input('Enter drawable type: ')\n",
    "\n",
    "match command:\n",
    "    case 'pen':\n",
    "        get_art_from_drawable(Pen(name='Kayrat'))\n",
    "    case 'pencil':\n",
    "        get_art_from_drawable(Pencil())"
   ]
  },
  {
   "attachments": {},
   "cell_type": "markdown",
   "metadata": {},
   "source": [
    "# абстрактный класс и интерфейс это одно и тоже"
   ]
  },
  {
   "attachments": {},
   "cell_type": "markdown",
   "metadata": {},
   "source": [
    "# ЕЩЕ МЫ МОЖЕМ РЕАЛИЗОВАТЬ ИНТЕРФЕЙС ЧЕРЕЗ PROTOCOL (ЭТО У НАС DUCK TYPING - ТО ЕСТЬ ЕСЛИ ОБЬЕКТ ПОХОЖ НА УТКУ, КРЯКАЕТ КАК УТКА, ХОДИТ КАК УТКА, ЛЕТИТ КАК УТКА ТО ЭТОТ ОБЬЕКТ УТКА)"
   ]
  },
  {
   "cell_type": "code",
   "execution_count": 17,
   "metadata": {},
   "outputs": [
    {
     "name": "stdout",
     "output_type": "stream",
     "text": [
      "Some amazing art by ...\n"
     ]
    }
   ],
   "source": [
    "# здесь мы не наследуемся от интерфейса(абстрактного метода), ####\n",
    "\n",
    "from typing import Protocol\n",
    "from dataclasses import dataclass\n",
    "\n",
    "\n",
    "class Drawable(Protocol):\n",
    "\n",
    "    def get_amazing_art(self) -> str:\n",
    "        raise NotImplementedError\n",
    "\n",
    "@dataclass\n",
    "class Pen:\n",
    "\n",
    "    name: str\n",
    "\n",
    "    def get_amazing_art(self) -> str:\n",
    "        return f'Some amazing art by {self.name}'\n",
    "\n",
    "class Pencil:\n",
    "    def get_amazing_art(self) -> str:\n",
    "        return f'Some amazing art by ...'\n",
    "\n",
    "\n",
    "def get_art_from_drawable(drawable: Drawable) -> None:\n",
    "    print(drawable.get_amazing_art())\n",
    "\n",
    "command = input('Enter drawable type: ')\n",
    "\n",
    "match command:\n",
    "    case 'pen':\n",
    "        get_art_from_drawable(Pen(name='Kayrat'))\n",
    "    case 'pencil':\n",
    "        get_art_from_drawable(Pencil())"
   ]
  },
  {
   "cell_type": "code",
   "execution_count": 19,
   "metadata": {},
   "outputs": [
    {
     "name": "stdout",
     "output_type": "stream",
     "text": [
      "Some amazing art by ...\n"
     ]
    }
   ],
   "source": [
    "from typing import Protocol\n",
    "from dataclasses import dataclass\n",
    "\n",
    "@dataclass\n",
    "class Pen:\n",
    "\n",
    "    name: str\n",
    "\n",
    "    def get_amazing_art(self) -> str:\n",
    "        return f'Some amazing art by {self.name}'\n",
    "\n",
    "class Pencil:\n",
    "    def get_amazing_art(self) -> str:\n",
    "        return f'Some amazing art by ...'\n",
    "    \n",
    "    def test_method(self) -> str:\n",
    "        return 'hello world'\n",
    "\n",
    "class Drawable(Protocol):\n",
    "\n",
    "    def get_amazing_art(self) -> str:\n",
    "        raise NotImplementedError\n",
    "    \n",
    "    def test_method(self) -> str:\n",
    "        raise NotImplementedError\n",
    "\n",
    "\n",
    "def get_art_from_drawable(drawable: Drawable) -> None:\n",
    "    print(drawable.get_amazing_art())\n",
    "    # print(drawable.test_method())\n",
    "\n",
    "command = input('Enter drawable type: ')\n",
    "\n",
    "match command:\n",
    "    case 'pen':\n",
    "        get_art_from_drawable(Pen(name='Kayrat'))\n",
    "    case 'pencil':\n",
    "        get_art_from_drawable(Pencil())"
   ]
  },
  {
   "attachments": {},
   "cell_type": "markdown",
   "metadata": {},
   "source": [
    "# Особенность Protocol можно узнать в нижних кодах"
   ]
  },
  {
   "cell_type": "code",
   "execution_count": 1,
   "metadata": {},
   "outputs": [],
   "source": [
    "from typing import Protocol\n",
    "\n",
    "\n",
    "class Parent(Protocol):\n",
    "    \n",
    "    def say_hello(self):\n",
    "        raise NotImplementedError\n",
    "    \n",
    "    def say_hello_v2(self):\n",
    "        raise NotImplementedError"
   ]
  },
  {
   "cell_type": "code",
   "execution_count": 2,
   "metadata": {},
   "outputs": [],
   "source": [
    "class Child:\n",
    "    def say_hello():\n",
    "        print('say hello')"
   ]
  },
  {
   "cell_type": "code",
   "execution_count": 3,
   "metadata": {},
   "outputs": [],
   "source": [
    "def hello(obj: Parent):\n",
    "    obj.say_hello()"
   ]
  },
  {
   "cell_type": "code",
   "execution_count": 4,
   "metadata": {},
   "outputs": [
    {
     "name": "stdout",
     "output_type": "stream",
     "text": [
      "say hello\n"
     ]
    }
   ],
   "source": [
    "hello(Child)"
   ]
  }
 ],
 "metadata": {
  "kernelspec": {
   "display_name": "Python 3.10.7 64-bit",
   "language": "python",
   "name": "python3"
  },
  "language_info": {
   "codemirror_mode": {
    "name": "ipython",
    "version": 3
   },
   "file_extension": ".py",
   "mimetype": "text/x-python",
   "name": "python",
   "nbconvert_exporter": "python",
   "pygments_lexer": "ipython3",
   "version": "3.10.7"
  },
  "orig_nbformat": 4,
  "vscode": {
   "interpreter": {
    "hash": "369f2c481f4da34e4445cda3fffd2e751bd1c4d706f27375911949ba6bb62e1c"
   }
  }
 },
 "nbformat": 4,
 "nbformat_minor": 2
}
