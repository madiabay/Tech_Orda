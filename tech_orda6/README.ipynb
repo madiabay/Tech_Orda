{
 "cells": [
  {
   "cell_type": "markdown",
   "metadata": {},
   "source": [
    "![jupyter](./TheCleanArchitecture.png)\n",
    "\n",
    "Чем более внутренний наш слой тем он важен и фундаментален. Например в фото Entities самый важный и фундаментльный слой. \n",
    "    А чем он снаружи тем он менее приоритетен.\n",
    "    И поэтому разработка начинается именно с внутреннего слоя."
   ]
  }
 ],
 "metadata": {
  "kernelspec": {
   "display_name": "Python 3.9.7 ('venv': venv)",
   "language": "python",
   "name": "python3"
  },
  "language_info": {
   "name": "python",
   "version": "3.9.7"
  },
  "orig_nbformat": 4,
  "vscode": {
   "interpreter": {
    "hash": "a400c9dfbe5addc528f64f3281b88a87123885b1da9e8917e51d608f73c32886"
   }
  }
 },
 "nbformat": 4,
 "nbformat_minor": 2
}
