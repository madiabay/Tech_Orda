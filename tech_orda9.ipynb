{
 "cells": [
  {
   "cell_type": "code",
   "execution_count": 13,
   "metadata": {},
   "outputs": [],
   "source": [
    "from abc import ABC, abstractmethod\n",
    "import decimal\n",
    "\n",
    "# PARENT\n",
    "class Employee(ABC):\n",
    "    cash = decimal.Decimal(0)\n",
    "\n",
    "    @abstractmethod\n",
    "    def pay(self, amount):\n",
    "        raise NotImplementedError"
   ]
  },
  {
   "cell_type": "code",
   "execution_count": 14,
   "metadata": {},
   "outputs": [],
   "source": [
    "from dataclasses import dataclass\n",
    "\n",
    "\n",
    "# CHILDREN\n",
    "\n",
    "class SalariedEmployee(Employee):\n",
    "    def pay(self, amount):\n",
    "        \"\"\" pay for month \"\"\"\n",
    "        self.cash += amount\n",
    "\n",
    "@dataclass\n",
    "class HourlyEmployee(Employee):\n",
    "    hour: int\n",
    "\n",
    "    def pay(self, amount):\n",
    "        \"\"\" pay for hour \"\"\"\n",
    "        self.cash += amount * self.hour\n",
    "\n",
    "class Freelancer(Employee):\n",
    "    \n",
    "    def pay(self, amount):\n",
    "        \"\"\" pay for project \"\"\"\n",
    "        self.cash += amount"
   ]
  },
  {
   "cell_type": "code",
   "execution_count": 15,
   "metadata": {},
   "outputs": [
    {
     "name": "stdout",
     "output_type": "stream",
     "text": [
      "100\n",
      "\n",
      "40\n",
      "\n",
      "10000\n",
      "\n"
     ]
    }
   ],
   "source": [
    "employee1 = SalariedEmployee()\n",
    "employee2 = HourlyEmployee(4)\n",
    "employee3 = Freelancer()\n",
    "\n",
    "def get_employee_salary(employee: Employee) -> None:\n",
    "    print(employee.cash)\n",
    "\n",
    "\n",
    "employee1.pay(100)\n",
    "get_employee_salary(employee1)\n",
    "print()\n",
    "employee2.pay(10)\n",
    "get_employee_salary(employee2)\n",
    "print()\n",
    "employee3.pay(10000)\n",
    "get_employee_salary(employee3)\n",
    "print()"
   ]
  },
  {
   "cell_type": "code",
   "execution_count": 1,
   "metadata": {},
   "outputs": [],
   "source": [
    "#######################"
   ]
  },
  {
   "cell_type": "code",
   "execution_count": 9,
   "metadata": {},
   "outputs": [],
   "source": [
    "from abc import ABC, abstractmethod\n",
    "import decimal\n",
    "from dataclasses import dataclass\n",
    "\n",
    "# PARENT\n",
    "class Employee(ABC):\n",
    "    cash = decimal.Decimal(0)\n",
    "\n",
    "    @abstractmethod\n",
    "    def pay(self, amount):\n",
    "        raise NotImplementedError\n",
    "    \n",
    "    def get_employee_information(self) -> dict:\n",
    "        return {\n",
    "            'cash': self.cash\n",
    "        }\n",
    "\n",
    "# CHILDREN\n",
    "@dataclass\n",
    "class SalariedEmployee(Employee):\n",
    "    name: str\n",
    "    surname: str\n",
    "\n",
    "    def pay(self, amount):\n",
    "        \"\"\" pay for month \"\"\"\n",
    "        self.cash += amount\n",
    "    \n",
    "    def get_employee_information_v2(self) -> dict:\n",
    "        info = {\n",
    "            'name': self.name,\n",
    "            'surname': self.surname,\n",
    "            'cash': self.cash # это не хорошая практика, если будет у родителя много атрибутов, мы не можем их всех перечислять. Внизу есть хорошая практика\n",
    "        }\n",
    "        print(info)"
   ]
  },
  {
   "cell_type": "code",
   "execution_count": 10,
   "metadata": {},
   "outputs": [
    {
     "name": "stdout",
     "output_type": "stream",
     "text": [
      "{'name': 'madi', 'surname': 'abay', 'cash': Decimal('0')}\n"
     ]
    }
   ],
   "source": [
    "a = SalariedEmployee(name='madi', surname='abay')\n",
    "a.get_employee_information_v2()"
   ]
  },
  {
   "cell_type": "code",
   "execution_count": 11,
   "metadata": {},
   "outputs": [],
   "source": [
    "# Вот это хороша практика\n",
    "\n",
    "from abc import ABC, abstractmethod\n",
    "import decimal\n",
    "from dataclasses import dataclass\n",
    "\n",
    "# PARENT\n",
    "class Employee(ABC):\n",
    "    cash = decimal.Decimal(0)\n",
    "\n",
    "    @abstractmethod\n",
    "    def pay(self, amount):\n",
    "        raise NotImplementedError\n",
    "    \n",
    "    def get_employee_information(self) -> dict:\n",
    "        return {\n",
    "            'cash': self.cash\n",
    "        }\n",
    "\n",
    "# CHILDREN\n",
    "@dataclass\n",
    "class SalariedEmployee(Employee):\n",
    "    name: str\n",
    "    surname: str\n",
    "\n",
    "    def pay(self, amount):\n",
    "        \"\"\" pay for month \"\"\"\n",
    "        self.cash += amount\n",
    "    \n",
    "    def get_employee_information(self) -> dict:\n",
    "        info = {\n",
    "            'name': self.name,\n",
    "            'surname': self.surname,\n",
    "            **super().get_employee_information() # это хорошая практика\n",
    "        }\n",
    "        print(info)"
   ]
  },
  {
   "cell_type": "code",
   "execution_count": 13,
   "metadata": {},
   "outputs": [
    {
     "name": "stdout",
     "output_type": "stream",
     "text": [
      "{'name': 'madi', 'surname': 'abay', 'cash': Decimal('0')}\n"
     ]
    }
   ],
   "source": [
    "a = SalariedEmployee(name='madi', surname='abay')\n",
    "a.get_employee_information()"
   ]
  },
  {
   "cell_type": "code",
   "execution_count": 15,
   "metadata": {},
   "outputs": [
    {
     "name": "stdout",
     "output_type": "stream",
     "text": [
      "{'id': 1, 'name': 'Madi', 'surname': 'Abay'}\n",
      "{'id': 1, 'name': 'Madi', 'surname': 'Abay'}\n"
     ]
    }
   ],
   "source": [
    "# как распаковать словари\n",
    "a = {'id': 1, 'name': 'Madi', 'surname': 'Abay'}\n",
    "\n",
    "print(a)\n",
    "\n",
    "print({**a})"
   ]
  },
  {
   "attachments": {},
   "cell_type": "markdown",
   "metadata": {},
   "source": [
    "# Множественное наследование"
   ]
  },
  {
   "cell_type": "code",
   "execution_count": 6,
   "metadata": {},
   "outputs": [
    {
     "name": "stdout",
     "output_type": "stream",
     "text": [
      "(<class '__main__.Person'>, <class '__main__.Driver'>, <class '__main__.Builder'>, <class 'object'>)\n",
      "I can cook!!!\n",
      "I can drive!!!\n",
      "I can build!!!\n"
     ]
    }
   ],
   "source": [
    "class Driver:\n",
    "\n",
    "    def can_cook(self):\n",
    "        print('I can cook!!!')\n",
    "\n",
    "    def can_drive(self):\n",
    "        print('I can drive!!!')\n",
    "\n",
    "class Builder:\n",
    "\n",
    "    def can_cook(self):\n",
    "        print('I can cook also!!!')\n",
    "\n",
    "    def can_build(self):\n",
    "        print('I can build!!!')\n",
    "\n",
    "\n",
    "class Person(Driver, Builder):\n",
    "    pass\n",
    "\n",
    "print(Person.__mro__)\n",
    "\n",
    "# Если в классах которые мы наследуемся будет методы одинаковых имен то оно реализуется в порядке dunder метода __mro__ (method resolution order)\n",
    "person = Person()\n",
    "person.can_cook()\n",
    "person.can_drive()\n",
    "person.can_build()"
   ]
  },
  {
   "cell_type": "code",
   "execution_count": 12,
   "metadata": {},
   "outputs": [
    {
     "name": "stdout",
     "output_type": "stream",
     "text": [
      "(<class '__main__.Person2'>, <class '__main__.Builder'>, <class '__main__.Driver'>, <class 'object'>)\n",
      "I can cook also!!!\n",
      "I can drive!!!\n",
      "I can build!!!\n"
     ]
    }
   ],
   "source": [
    "# вот здесь уже выполнится метод Builder-a\n",
    "class Person2(Builder, Driver,):\n",
    "    pass\n",
    "\n",
    "print(Person2.__mro__)\n",
    "\n",
    "person2 = Person2()\n",
    "person2.can_cook()\n",
    "person2.can_drive()\n",
    "person2.can_build()"
   ]
  },
  {
   "cell_type": "code",
   "execution_count": 14,
   "metadata": {},
   "outputs": [
    {
     "name": "stdout",
     "output_type": "stream",
     "text": [
      "(<class '__main__.Person3'>, <class '__main__.Builder'>, <class '__main__.Driver'>, <class 'object'>)\n",
      "I can cook so amazing!!!\n",
      "I can drive!!!\n",
      "I can build!!!\n"
     ]
    }
   ],
   "source": [
    "class Person3(Builder, Driver,):\n",
    "    def can_cook(self):\n",
    "        print('I can cook so amazing!!!')\n",
    "\n",
    "print(Person3.__mro__)\n",
    "\n",
    "person3 = Person3()\n",
    "person3.can_cook()\n",
    "person3.can_drive()\n",
    "person3.can_build()"
   ]
  },
  {
   "cell_type": "code",
   "execution_count": 17,
   "metadata": {},
   "outputs": [
    {
     "name": "stdout",
     "output_type": "stream",
     "text": [
      "(<class '__main__.Person'>, <class '__main__.Driver'>, <class '__main__.Builder'>, <class 'object'>)\n",
      "I can cook so amazing!!!\n",
      "I can cook!!!\n",
      "I can cook also!!!\n"
     ]
    }
   ],
   "source": [
    "# Если нам нужен все одинаковые методы родителей\n",
    "class Driver:\n",
    "\n",
    "    def can_cook(self):\n",
    "        print('I can cook!!!')\n",
    "\n",
    "    def can_drive(self):\n",
    "        print('I can drive!!!')\n",
    "\n",
    "class Builder:\n",
    "\n",
    "    def can_cook(self):\n",
    "        print('I can cook also!!!')\n",
    "\n",
    "    def can_build(self):\n",
    "        print('I can build!!!')\n",
    "\n",
    "\n",
    "class Person(Driver, Builder):\n",
    "    def can_cook(self):\n",
    "        print('I can cook so amazing!!!')\n",
    "        Driver.can_cook(self)\n",
    "        Builder.can_cook(self)\n",
    "\n",
    "print(Person.__mro__)\n",
    "\n",
    "person = Person()\n",
    "person.can_cook()"
   ]
  },
  {
   "cell_type": "code",
   "execution_count": 27,
   "metadata": {},
   "outputs": [
    {
     "name": "stdout",
     "output_type": "stream",
     "text": [
      "5\n",
      "['Maska', 'Shliapa']\n",
      "Madi\n",
      "21\n"
     ]
    }
   ],
   "source": [
    "# как реализуем если родительские классы инициализируют атрибуты\n",
    "\n",
    "from typing import List\n",
    "\n",
    "\n",
    "class Driver:\n",
    "\n",
    "    def __init__(self, rating: int) -> None:\n",
    "        self.rating = rating\n",
    "\n",
    "    def can_cook(self):\n",
    "        print('I can cook!!!')\n",
    "\n",
    "    def can_drive(self):\n",
    "        print('I can drive!!!')\n",
    "\n",
    "class Builder:\n",
    "\n",
    "    def __init__(self, equipments: List[str]) -> None:\n",
    "        self.equipments = equipments\n",
    "\n",
    "    def can_cook(self):\n",
    "        print('I can cook also!!!')\n",
    "\n",
    "    def can_build(self):\n",
    "        print('I can build!!!')\n",
    "\n",
    "\n",
    "class Person(Driver, Builder):\n",
    "\n",
    "    def __init__(self, rating: int, equipments: List[str], name: str, age: int) -> None:\n",
    "        Driver.__init__(self, rating)\n",
    "        Builder.__init__(self, equipments)\n",
    "        self.name = name\n",
    "        self.age = age\n",
    "\n",
    "    def can_cook(self):\n",
    "        print('I can cook so amazing!!!')\n",
    "\n",
    "person = Person(5, ['Maska', 'Shliapa'], 'Madi', 21)\n",
    "print(person.rating)\n",
    "print(person.equipments)\n",
    "print(person.name)\n",
    "print(person.age)"
   ]
  }
 ],
 "metadata": {
  "kernelspec": {
   "display_name": "Python 3",
   "language": "python",
   "name": "python3"
  },
  "language_info": {
   "codemirror_mode": {
    "name": "ipython",
    "version": 3
   },
   "file_extension": ".py",
   "mimetype": "text/x-python",
   "name": "python",
   "nbconvert_exporter": "python",
   "pygments_lexer": "ipython3",
   "version": "3.10.6"
  },
  "orig_nbformat": 4,
  "vscode": {
   "interpreter": {
    "hash": "916dbcbb3f70747c44a77c7bcd40155683ae19c65e1c03b4aa3499c5328201f1"
   }
  }
 },
 "nbformat": 4,
 "nbformat_minor": 2
}
