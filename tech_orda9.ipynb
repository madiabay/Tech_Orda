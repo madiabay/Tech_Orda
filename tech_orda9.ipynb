{
 "cells": [
  {
   "cell_type": "code",
   "execution_count": 13,
   "metadata": {},
   "outputs": [],
   "source": [
    "from abc import ABC, abstractmethod\n",
    "import decimal\n",
    "\n",
    "# PARENT\n",
    "class Employee(ABC):\n",
    "    cash = decimal.Decimal(0)\n",
    "\n",
    "    @abstractmethod\n",
    "    def pay(self, amount):\n",
    "        raise NotImplementedError"
   ]
  },
  {
   "cell_type": "code",
   "execution_count": 14,
   "metadata": {},
   "outputs": [],
   "source": [
    "from dataclasses import dataclass\n",
    "\n",
    "\n",
    "# CHILDREN\n",
    "\n",
    "class SalariedEmployee(Employee):\n",
    "    def pay(self, amount):\n",
    "        \"\"\" pay for month \"\"\"\n",
    "        self.cash += amount\n",
    "\n",
    "@dataclass\n",
    "class HourlyEmployee(Employee):\n",
    "    hour: int\n",
    "\n",
    "    def pay(self, amount):\n",
    "        \"\"\" pay for hour \"\"\"\n",
    "        self.cash += amount * self.hour\n",
    "\n",
    "class Freelancer(Employee):\n",
    "    \n",
    "    def pay(self, amount):\n",
    "        \"\"\" pay for project \"\"\"\n",
    "        self.cash += amount"
   ]
  },
  {
   "cell_type": "code",
   "execution_count": 15,
   "metadata": {},
   "outputs": [
    {
     "name": "stdout",
     "output_type": "stream",
     "text": [
      "100\n",
      "\n",
      "40\n",
      "\n",
      "10000\n",
      "\n"
     ]
    }
   ],
   "source": [
    "employee1 = SalariedEmployee()\n",
    "employee2 = HourlyEmployee(4)\n",
    "employee3 = Freelancer()\n",
    "\n",
    "def get_employee_salary(employee: Employee) -> None:\n",
    "    print(employee.cash)\n",
    "\n",
    "\n",
    "employee1.pay(100)\n",
    "get_employee_salary(employee1)\n",
    "print()\n",
    "employee2.pay(10)\n",
    "get_employee_salary(employee2)\n",
    "print()\n",
    "employee3.pay(10000)\n",
    "get_employee_salary(employee3)\n",
    "print()"
   ]
  },
  {
   "cell_type": "code",
   "execution_count": 1,
   "metadata": {},
   "outputs": [],
   "source": [
    "#######################"
   ]
  },
  {
   "cell_type": "code",
   "execution_count": 9,
   "metadata": {},
   "outputs": [],
   "source": [
    "from abc import ABC, abstractmethod\n",
    "import decimal\n",
    "from dataclasses import dataclass\n",
    "\n",
    "# PARENT\n",
    "class Employee(ABC):\n",
    "    cash = decimal.Decimal(0)\n",
    "\n",
    "    @abstractmethod\n",
    "    def pay(self, amount):\n",
    "        raise NotImplementedError\n",
    "    \n",
    "    def get_employee_information(self) -> dict:\n",
    "        return {\n",
    "            'cash': self.cash\n",
    "        }\n",
    "\n",
    "# CHILDREN\n",
    "@dataclass\n",
    "class SalariedEmployee(Employee):\n",
    "    name: str\n",
    "    surname: str\n",
    "\n",
    "    def pay(self, amount):\n",
    "        \"\"\" pay for month \"\"\"\n",
    "        self.cash += amount\n",
    "    \n",
    "    def get_employee_information_v2(self) -> dict:\n",
    "        info = {\n",
    "            'name': self.name,\n",
    "            'surname': self.surname,\n",
    "            'cash': self.cash # это не хорошая практика, если будет у родителя много атрибутов, мы не можем их всех перечислять. Внизу есть хорошая практика\n",
    "        }\n",
    "        print(info)"
   ]
  },
  {
   "cell_type": "code",
   "execution_count": 10,
   "metadata": {},
   "outputs": [
    {
     "name": "stdout",
     "output_type": "stream",
     "text": [
      "{'name': 'madi', 'surname': 'abay', 'cash': Decimal('0')}\n"
     ]
    }
   ],
   "source": [
    "a = SalariedEmployee(name='madi', surname='abay')\n",
    "a.get_employee_information_v2()"
   ]
  },
  {
   "cell_type": "code",
   "execution_count": 11,
   "metadata": {},
   "outputs": [],
   "source": [
    "# Вот это хороша практика\n",
    "\n",
    "from abc import ABC, abstractmethod\n",
    "import decimal\n",
    "from dataclasses import dataclass\n",
    "\n",
    "# PARENT\n",
    "class Employee(ABC):\n",
    "    cash = decimal.Decimal(0)\n",
    "\n",
    "    @abstractmethod\n",
    "    def pay(self, amount):\n",
    "        raise NotImplementedError\n",
    "    \n",
    "    def get_employee_information(self) -> dict:\n",
    "        return {\n",
    "            'cash': self.cash\n",
    "        }\n",
    "\n",
    "# CHILDREN\n",
    "@dataclass\n",
    "class SalariedEmployee(Employee):\n",
    "    name: str\n",
    "    surname: str\n",
    "\n",
    "    def pay(self, amount):\n",
    "        \"\"\" pay for month \"\"\"\n",
    "        self.cash += amount\n",
    "    \n",
    "    def get_employee_information(self) -> dict:\n",
    "        info = {\n",
    "            'name': self.name,\n",
    "            'surname': self.surname,\n",
    "            **super().get_employee_information() # это хорошая практика\n",
    "        }\n",
    "        print(info)"
   ]
  },
  {
   "cell_type": "code",
   "execution_count": 13,
   "metadata": {},
   "outputs": [
    {
     "name": "stdout",
     "output_type": "stream",
     "text": [
      "{'name': 'madi', 'surname': 'abay', 'cash': Decimal('0')}\n"
     ]
    }
   ],
   "source": [
    "a = SalariedEmployee(name='madi', surname='abay')\n",
    "a.get_employee_information()"
   ]
  },
  {
   "cell_type": "code",
   "execution_count": 15,
   "metadata": {},
   "outputs": [
    {
     "name": "stdout",
     "output_type": "stream",
     "text": [
      "{'id': 1, 'name': 'Madi', 'surname': 'Abay'}\n",
      "{'id': 1, 'name': 'Madi', 'surname': 'Abay'}\n"
     ]
    }
   ],
   "source": [
    "# как распаковать словари\n",
    "a = {'id': 1, 'name': 'Madi', 'surname': 'Abay'}\n",
    "\n",
    "print(a)\n",
    "\n",
    "print({**a})"
   ]
  }
 ],
 "metadata": {
  "kernelspec": {
   "display_name": "Python 3",
   "language": "python",
   "name": "python3"
  },
  "language_info": {
   "codemirror_mode": {
    "name": "ipython",
    "version": 3
   },
   "file_extension": ".py",
   "mimetype": "text/x-python",
   "name": "python",
   "nbconvert_exporter": "python",
   "pygments_lexer": "ipython3",
   "version": "3.10.7"
  },
  "orig_nbformat": 4,
  "vscode": {
   "interpreter": {
    "hash": "369f2c481f4da34e4445cda3fffd2e751bd1c4d706f27375911949ba6bb62e1c"
   }
  }
 },
 "nbformat": 4,
 "nbformat_minor": 2
}
